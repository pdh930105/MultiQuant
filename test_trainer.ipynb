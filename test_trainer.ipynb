{
 "cells": [
  {
   "cell_type": "code",
   "execution_count": 1,
   "metadata": {},
   "outputs": [],
   "source": [
    "import torch\n",
    "import torch.nn as nn\n",
    "import torch.nn.functional as F\n",
    "import math\n",
    "import numpy as np\n",
    "from easydict import EasyDict as edict\n",
    "\n",
    "import sys\n",
    "#sys.path.append('./src')\n",
    "\n",
    "from src.dataset import get_loader\n",
    "from src.trainer import Trainer\n",
    "import src.distrib as distrib\n",
    "from model.quant_model import resnet18_quant\n",
    "from model.quant_ops import QConv"
   ]
  },
  {
   "cell_type": "code",
   "execution_count": 2,
   "metadata": {},
   "outputs": [],
   "source": [
    "args =edict()\n",
    "args.quant = edict()\n",
    "\n",
    "\n",
    "args['db'] = edict()\n",
    "args.db.name = 'imagenet'\n",
    "args.db.root = '/dataset/imagenet'\n",
    "\n",
    "args.quant['arch'] = 'resnet20_quant' if args.db.name == 'cifar10' else 'resnet18_quant'\n",
    "args.quant['QWeightFlag'] = True\n",
    "args.quant['QActFlag'] = True\n",
    "args.quant['bkwd_scaling_factorW'] = 1.0\n",
    "args.quant['bkwd_scaling_factorA'] = 1.0\n",
    "args.quant['groups']=4\n",
    "args.quant.bit_list = ['2','4','6','8']\n",
    "\n",
    "args.lr_sched = None\n",
    "args.device = 'cuda:0'\n",
    "args.epochs= 200\n",
    "args.optim= 'sgd'\n",
    "args.lr= 0.1\n",
    "args.momentum= 0.9\n",
    "args.w_decay= 5e-4\n",
    "args.batch_size= 128\n",
    "args.mixed= True  # if true, uses mixed precision training\n",
    "args.beta2= 0.999\n",
    "args.max_norm= 5\n",
    "args.nesterov= True\n",
    "args.alpha= 0.9\n",
    "args.continue_from=False\n",
    "args.checkpoint=False\n",
    "args.history_file=None\n",
    "args.pre_load_pretrained = True\n",
    "args.restart= False # Ignore existing checkpoints\n",
    "args.checkpoint_file= 'checkpoint.th'\n",
    "args.history_file= 'history.json'\n",
    "args.num_prints= 10"
   ]
  },
  {
   "cell_type": "code",
   "execution_count": 3,
   "metadata": {},
   "outputs": [],
   "source": [
    "img_size = 32 if 'cifar' in args.db.name else 224 \n",
    "trainset, testset, num_classes = get_loader(args, img_size)\n",
    "criterion = nn.CrossEntropyLoss()\n",
    "data = edict()\n",
    "data['tr'] = distrib.loader(trainset, args.batch_size, shuffle=True, num_workers=4)\n",
    "data['tt'] = distrib.loader(testset, args.batch_size, shuffle=False, num_workers=4)"
   ]
  },
  {
   "cell_type": "code",
   "execution_count": 4,
   "metadata": {},
   "outputs": [
    {
     "ename": "RuntimeError",
     "evalue": "Error(s) in loading state_dict for QResNet:\n\tsize mismatch for layer1.0.bn1.bn.1.weight: copying a param with shape torch.Size([104]) from checkpoint, the shape in current model is torch.Size([128]).\n\tsize mismatch for layer1.0.bn1.bn.1.bias: copying a param with shape torch.Size([104]) from checkpoint, the shape in current model is torch.Size([128]).\n\tsize mismatch for layer1.0.bn1.bn.1.running_mean: copying a param with shape torch.Size([104]) from checkpoint, the shape in current model is torch.Size([128]).\n\tsize mismatch for layer1.0.bn1.bn.1.running_var: copying a param with shape torch.Size([104]) from checkpoint, the shape in current model is torch.Size([128]).\n\tsize mismatch for layer1.0.bn1.bn.2.weight: copying a param with shape torch.Size([128]) from checkpoint, the shape in current model is torch.Size([192]).\n\tsize mismatch for layer1.0.bn1.bn.2.bias: copying a param with shape torch.Size([128]) from checkpoint, the shape in current model is torch.Size([192]).\n\tsize mismatch for layer1.0.bn1.bn.2.running_mean: copying a param with shape torch.Size([128]) from checkpoint, the shape in current model is torch.Size([192]).\n\tsize mismatch for layer1.0.bn1.bn.2.running_var: copying a param with shape torch.Size([128]) from checkpoint, the shape in current model is torch.Size([192]).\n\tsize mismatch for layer1.0.bn1.bn.3.weight: copying a param with shape torch.Size([168]) from checkpoint, the shape in current model is torch.Size([256]).\n\tsize mismatch for layer1.0.bn1.bn.3.bias: copying a param with shape torch.Size([168]) from checkpoint, the shape in current model is torch.Size([256]).\n\tsize mismatch for layer1.0.bn1.bn.3.running_mean: copying a param with shape torch.Size([168]) from checkpoint, the shape in current model is torch.Size([256]).\n\tsize mismatch for layer1.0.bn1.bn.3.running_var: copying a param with shape torch.Size([168]) from checkpoint, the shape in current model is torch.Size([256]).\n\tsize mismatch for layer1.0.bn2.bn.1.weight: copying a param with shape torch.Size([104]) from checkpoint, the shape in current model is torch.Size([128]).\n\tsize mismatch for layer1.0.bn2.bn.1.bias: copying a param with shape torch.Size([104]) from checkpoint, the shape in current model is torch.Size([128]).\n\tsize mismatch for layer1.0.bn2.bn.1.running_mean: copying a param with shape torch.Size([104]) from checkpoint, the shape in current model is torch.Size([128]).\n\tsize mismatch for layer1.0.bn2.bn.1.running_var: copying a param with shape torch.Size([104]) from checkpoint, the shape in current model is torch.Size([128]).\n\tsize mismatch for layer1.0.bn2.bn.2.weight: copying a param with shape torch.Size([128]) from checkpoint, the shape in current model is torch.Size([192]).\n\tsize mismatch for layer1.0.bn2.bn.2.bias: copying a param with shape torch.Size([128]) from checkpoint, the shape in current model is torch.Size([192]).\n\tsize mismatch for layer1.0.bn2.bn.2.running_mean: copying a param with shape torch.Size([128]) from checkpoint, the shape in current model is torch.Size([192]).\n\tsize mismatch for layer1.0.bn2.bn.2.running_var: copying a param with shape torch.Size([128]) from checkpoint, the shape in current model is torch.Size([192]).\n\tsize mismatch for layer1.0.bn2.bn.3.weight: copying a param with shape torch.Size([168]) from checkpoint, the shape in current model is torch.Size([256]).\n\tsize mismatch for layer1.0.bn2.bn.3.bias: copying a param with shape torch.Size([168]) from checkpoint, the shape in current model is torch.Size([256]).\n\tsize mismatch for layer1.0.bn2.bn.3.running_mean: copying a param with shape torch.Size([168]) from checkpoint, the shape in current model is torch.Size([256]).\n\tsize mismatch for layer1.0.bn2.bn.3.running_var: copying a param with shape torch.Size([168]) from checkpoint, the shape in current model is torch.Size([256]).\n\tsize mismatch for layer1.1.bn1.bn.1.weight: copying a param with shape torch.Size([104]) from checkpoint, the shape in current model is torch.Size([128]).\n\tsize mismatch for layer1.1.bn1.bn.1.bias: copying a param with shape torch.Size([104]) from checkpoint, the shape in current model is torch.Size([128]).\n\tsize mismatch for layer1.1.bn1.bn.1.running_mean: copying a param with shape torch.Size([104]) from checkpoint, the shape in current model is torch.Size([128]).\n\tsize mismatch for layer1.1.bn1.bn.1.running_var: copying a param with shape torch.Size([104]) from checkpoint, the shape in current model is torch.Size([128]).\n\tsize mismatch for layer1.1.bn1.bn.2.weight: copying a param with shape torch.Size([128]) from checkpoint, the shape in current model is torch.Size([192]).\n\tsize mismatch for layer1.1.bn1.bn.2.bias: copying a param with shape torch.Size([128]) from checkpoint, the shape in current model is torch.Size([192]).\n\tsize mismatch for layer1.1.bn1.bn.2.running_mean: copying a param with shape torch.Size([128]) from checkpoint, the shape in current model is torch.Size([192]).\n\tsize mismatch for layer1.1.bn1.bn.2.running_var: copying a param with shape torch.Size([128]) from checkpoint, the shape in current model is torch.Size([192]).\n\tsize mismatch for layer1.1.bn1.bn.3.weight: copying a param with shape torch.Size([168]) from checkpoint, the shape in current model is torch.Size([256]).\n\tsize mismatch for layer1.1.bn1.bn.3.bias: copying a param with shape torch.Size([168]) from checkpoint, the shape in current model is torch.Size([256]).\n\tsize mismatch for layer1.1.bn1.bn.3.running_mean: copying a param with shape torch.Size([168]) from checkpoint, the shape in current model is torch.Size([256]).\n\tsize mismatch for layer1.1.bn1.bn.3.running_var: copying a param with shape torch.Size([168]) from checkpoint, the shape in current model is torch.Size([256]).\n\tsize mismatch for layer1.1.bn2.bn.1.weight: copying a param with shape torch.Size([104]) from checkpoint, the shape in current model is torch.Size([128]).\n\tsize mismatch for layer1.1.bn2.bn.1.bias: copying a param with shape torch.Size([104]) from checkpoint, the shape in current model is torch.Size([128]).\n\tsize mismatch for layer1.1.bn2.bn.1.running_mean: copying a param with shape torch.Size([104]) from checkpoint, the shape in current model is torch.Size([128]).\n\tsize mismatch for layer1.1.bn2.bn.1.running_var: copying a param with shape torch.Size([104]) from checkpoint, the shape in current model is torch.Size([128]).\n\tsize mismatch for layer1.1.bn2.bn.2.weight: copying a param with shape torch.Size([128]) from checkpoint, the shape in current model is torch.Size([192]).\n\tsize mismatch for layer1.1.bn2.bn.2.bias: copying a param with shape torch.Size([128]) from checkpoint, the shape in current model is torch.Size([192]).\n\tsize mismatch for layer1.1.bn2.bn.2.running_mean: copying a param with shape torch.Size([128]) from checkpoint, the shape in current model is torch.Size([192]).\n\tsize mismatch for layer1.1.bn2.bn.2.running_var: copying a param with shape torch.Size([128]) from checkpoint, the shape in current model is torch.Size([192]).\n\tsize mismatch for layer1.1.bn2.bn.3.weight: copying a param with shape torch.Size([168]) from checkpoint, the shape in current model is torch.Size([256]).\n\tsize mismatch for layer1.1.bn2.bn.3.bias: copying a param with shape torch.Size([168]) from checkpoint, the shape in current model is torch.Size([256]).\n\tsize mismatch for layer1.1.bn2.bn.3.running_mean: copying a param with shape torch.Size([168]) from checkpoint, the shape in current model is torch.Size([256]).\n\tsize mismatch for layer1.1.bn2.bn.3.running_var: copying a param with shape torch.Size([168]) from checkpoint, the shape in current model is torch.Size([256]).\n\tsize mismatch for layer2.0.bn1.bn.1.weight: copying a param with shape torch.Size([204]) from checkpoint, the shape in current model is torch.Size([256]).\n\tsize mismatch for layer2.0.bn1.bn.1.bias: copying a param with shape torch.Size([204]) from checkpoint, the shape in current model is torch.Size([256]).\n\tsize mismatch for layer2.0.bn1.bn.1.running_mean: copying a param with shape torch.Size([204]) from checkpoint, the shape in current model is torch.Size([256]).\n\tsize mismatch for layer2.0.bn1.bn.1.running_var: copying a param with shape torch.Size([204]) from checkpoint, the shape in current model is torch.Size([256]).\n\tsize mismatch for layer2.0.bn1.bn.2.weight: copying a param with shape torch.Size([256]) from checkpoint, the shape in current model is torch.Size([384]).\n\tsize mismatch for layer2.0.bn1.bn.2.bias: copying a param with shape torch.Size([256]) from checkpoint, the shape in current model is torch.Size([384]).\n\tsize mismatch for layer2.0.bn1.bn.2.running_mean: copying a param with shape torch.Size([256]) from checkpoint, the shape in current model is torch.Size([384]).\n\tsize mismatch for layer2.0.bn1.bn.2.running_var: copying a param with shape torch.Size([256]) from checkpoint, the shape in current model is torch.Size([384]).\n\tsize mismatch for layer2.0.bn1.bn.3.weight: copying a param with shape torch.Size([332]) from checkpoint, the shape in current model is torch.Size([512]).\n\tsize mismatch for layer2.0.bn1.bn.3.bias: copying a param with shape torch.Size([332]) from checkpoint, the shape in current model is torch.Size([512]).\n\tsize mismatch for layer2.0.bn1.bn.3.running_mean: copying a param with shape torch.Size([332]) from checkpoint, the shape in current model is torch.Size([512]).\n\tsize mismatch for layer2.0.bn1.bn.3.running_var: copying a param with shape torch.Size([332]) from checkpoint, the shape in current model is torch.Size([512]).\n\tsize mismatch for layer2.0.bn2.bn.1.weight: copying a param with shape torch.Size([204]) from checkpoint, the shape in current model is torch.Size([256]).\n\tsize mismatch for layer2.0.bn2.bn.1.bias: copying a param with shape torch.Size([204]) from checkpoint, the shape in current model is torch.Size([256]).\n\tsize mismatch for layer2.0.bn2.bn.1.running_mean: copying a param with shape torch.Size([204]) from checkpoint, the shape in current model is torch.Size([256]).\n\tsize mismatch for layer2.0.bn2.bn.1.running_var: copying a param with shape torch.Size([204]) from checkpoint, the shape in current model is torch.Size([256]).\n\tsize mismatch for layer2.0.bn2.bn.2.weight: copying a param with shape torch.Size([256]) from checkpoint, the shape in current model is torch.Size([384]).\n\tsize mismatch for layer2.0.bn2.bn.2.bias: copying a param with shape torch.Size([256]) from checkpoint, the shape in current model is torch.Size([384]).\n\tsize mismatch for layer2.0.bn2.bn.2.running_mean: copying a param with shape torch.Size([256]) from checkpoint, the shape in current model is torch.Size([384]).\n\tsize mismatch for layer2.0.bn2.bn.2.running_var: copying a param with shape torch.Size([256]) from checkpoint, the shape in current model is torch.Size([384]).\n\tsize mismatch for layer2.0.bn2.bn.3.weight: copying a param with shape torch.Size([332]) from checkpoint, the shape in current model is torch.Size([512]).\n\tsize mismatch for layer2.0.bn2.bn.3.bias: copying a param with shape torch.Size([332]) from checkpoint, the shape in current model is torch.Size([512]).\n\tsize mismatch for layer2.0.bn2.bn.3.running_mean: copying a param with shape torch.Size([332]) from checkpoint, the shape in current model is torch.Size([512]).\n\tsize mismatch for layer2.0.bn2.bn.3.running_var: copying a param with shape torch.Size([332]) from checkpoint, the shape in current model is torch.Size([512]).\n\tsize mismatch for layer2.0.downsample.1.bn.1.weight: copying a param with shape torch.Size([204]) from checkpoint, the shape in current model is torch.Size([256]).\n\tsize mismatch for layer2.0.downsample.1.bn.1.bias: copying a param with shape torch.Size([204]) from checkpoint, the shape in current model is torch.Size([256]).\n\tsize mismatch for layer2.0.downsample.1.bn.1.running_mean: copying a param with shape torch.Size([204]) from checkpoint, the shape in current model is torch.Size([256]).\n\tsize mismatch for layer2.0.downsample.1.bn.1.running_var: copying a param with shape torch.Size([204]) from checkpoint, the shape in current model is torch.Size([256]).\n\tsize mismatch for layer2.0.downsample.1.bn.2.weight: copying a param with shape torch.Size([256]) from checkpoint, the shape in current model is torch.Size([384]).\n\tsize mismatch for layer2.0.downsample.1.bn.2.bias: copying a param with shape torch.Size([256]) from checkpoint, the shape in current model is torch.Size([384]).\n\tsize mismatch for layer2.0.downsample.1.bn.2.running_mean: copying a param with shape torch.Size([256]) from checkpoint, the shape in current model is torch.Size([384]).\n\tsize mismatch for layer2.0.downsample.1.bn.2.running_var: copying a param with shape torch.Size([256]) from checkpoint, the shape in current model is torch.Size([384]).\n\tsize mismatch for layer2.0.downsample.1.bn.3.weight: copying a param with shape torch.Size([332]) from checkpoint, the shape in current model is torch.Size([512]).\n\tsize mismatch for layer2.0.downsample.1.bn.3.bias: copying a param with shape torch.Size([332]) from checkpoint, the shape in current model is torch.Size([512]).\n\tsize mismatch for layer2.0.downsample.1.bn.3.running_mean: copying a param with shape torch.Size([332]) from checkpoint, the shape in current model is torch.Size([512]).\n\tsize mismatch for layer2.0.downsample.1.bn.3.running_var: copying a param with shape torch.Size([332]) from checkpoint, the shape in current model is torch.Size([512]).\n\tsize mismatch for layer2.1.bn1.bn.1.weight: copying a param with shape torch.Size([204]) from checkpoint, the shape in current model is torch.Size([256]).\n\tsize mismatch for layer2.1.bn1.bn.1.bias: copying a param with shape torch.Size([204]) from checkpoint, the shape in current model is torch.Size([256]).\n\tsize mismatch for layer2.1.bn1.bn.1.running_mean: copying a param with shape torch.Size([204]) from checkpoint, the shape in current model is torch.Size([256]).\n\tsize mismatch for layer2.1.bn1.bn.1.running_var: copying a param with shape torch.Size([204]) from checkpoint, the shape in current model is torch.Size([256]).\n\tsize mismatch for layer2.1.bn1.bn.2.weight: copying a param with shape torch.Size([256]) from checkpoint, the shape in current model is torch.Size([384]).\n\tsize mismatch for layer2.1.bn1.bn.2.bias: copying a param with shape torch.Size([256]) from checkpoint, the shape in current model is torch.Size([384]).\n\tsize mismatch for layer2.1.bn1.bn.2.running_mean: copying a param with shape torch.Size([256]) from checkpoint, the shape in current model is torch.Size([384]).\n\tsize mismatch for layer2.1.bn1.bn.2.running_var: copying a param with shape torch.Size([256]) from checkpoint, the shape in current model is torch.Size([384]).\n\tsize mismatch for layer2.1.bn1.bn.3.weight: copying a param with shape torch.Size([332]) from checkpoint, the shape in current model is torch.Size([512]).\n\tsize mismatch for layer2.1.bn1.bn.3.bias: copying a param with shape torch.Size([332]) from checkpoint, the shape in current model is torch.Size([512]).\n\tsize mismatch for layer2.1.bn1.bn.3.running_mean: copying a param with shape torch.Size([332]) from checkpoint, the shape in current model is torch.Size([512]).\n\tsize mismatch for layer2.1.bn1.bn.3.running_var: copying a param with shape torch.Size([332]) from checkpoint, the shape in current model is torch.Size([512]).\n\tsize mismatch for layer2.1.bn2.bn.1.weight: copying a param with shape torch.Size([204]) from checkpoint, the shape in current model is torch.Size([256]).\n\tsize mismatch for layer2.1.bn2.bn.1.bias: copying a param with shape torch.Size([204]) from checkpoint, the shape in current model is torch.Size([256]).\n\tsize mismatch for layer2.1.bn2.bn.1.running_mean: copying a param with shape torch.Size([204]) from checkpoint, the shape in current model is torch.Size([256]).\n\tsize mismatch for layer2.1.bn2.bn.1.running_var: copying a param with shape torch.Size([204]) from checkpoint, the shape in current model is torch.Size([256]).\n\tsize mismatch for layer2.1.bn2.bn.2.weight: copying a param with shape torch.Size([256]) from checkpoint, the shape in current model is torch.Size([384]).\n\tsize mismatch for layer2.1.bn2.bn.2.bias: copying a param with shape torch.Size([256]) from checkpoint, the shape in current model is torch.Size([384]).\n\tsize mismatch for layer2.1.bn2.bn.2.running_mean: copying a param with shape torch.Size([256]) from checkpoint, the shape in current model is torch.Size([384]).\n\tsize mismatch for layer2.1.bn2.bn.2.running_var: copying a param with shape torch.Size([256]) from checkpoint, the shape in current model is torch.Size([384]).\n\tsize mismatch for layer2.1.bn2.bn.3.weight: copying a param with shape torch.Size([332]) from checkpoint, the shape in current model is torch.Size([512]).\n\tsize mismatch for layer2.1.bn2.bn.3.bias: copying a param with shape torch.Size([332]) from checkpoint, the shape in current model is torch.Size([512]).\n\tsize mismatch for layer2.1.bn2.bn.3.running_mean: copying a param with shape torch.Size([332]) from checkpoint, the shape in current model is torch.Size([512]).\n\tsize mismatch for layer2.1.bn2.bn.3.running_var: copying a param with shape torch.Size([332]) from checkpoint, the shape in current model is torch.Size([512]).\n\tsize mismatch for layer3.0.bn1.bn.1.weight: copying a param with shape torch.Size([440]) from checkpoint, the shape in current model is torch.Size([512]).\n\tsize mismatch for layer3.0.bn1.bn.1.bias: copying a param with shape torch.Size([440]) from checkpoint, the shape in current model is torch.Size([512]).\n\tsize mismatch for layer3.0.bn1.bn.1.running_mean: copying a param with shape torch.Size([440]) from checkpoint, the shape in current model is torch.Size([512]).\n\tsize mismatch for layer3.0.bn1.bn.1.running_var: copying a param with shape torch.Size([440]) from checkpoint, the shape in current model is torch.Size([512]).\n\tsize mismatch for layer3.0.bn1.bn.2.weight: copying a param with shape torch.Size([512]) from checkpoint, the shape in current model is torch.Size([768]).\n\tsize mismatch for layer3.0.bn1.bn.2.bias: copying a param with shape torch.Size([512]) from checkpoint, the shape in current model is torch.Size([768]).\n\tsize mismatch for layer3.0.bn1.bn.2.running_mean: copying a param with shape torch.Size([512]) from checkpoint, the shape in current model is torch.Size([768]).\n\tsize mismatch for layer3.0.bn1.bn.2.running_var: copying a param with shape torch.Size([512]) from checkpoint, the shape in current model is torch.Size([768]).\n\tsize mismatch for layer3.0.bn1.bn.3.weight: copying a param with shape torch.Size([696]) from checkpoint, the shape in current model is torch.Size([1024]).\n\tsize mismatch for layer3.0.bn1.bn.3.bias: copying a param with shape torch.Size([696]) from checkpoint, the shape in current model is torch.Size([1024]).\n\tsize mismatch for layer3.0.bn1.bn.3.running_mean: copying a param with shape torch.Size([696]) from checkpoint, the shape in current model is torch.Size([1024]).\n\tsize mismatch for layer3.0.bn1.bn.3.running_var: copying a param with shape torch.Size([696]) from checkpoint, the shape in current model is torch.Size([1024]).\n\tsize mismatch for layer3.0.bn2.bn.1.weight: copying a param with shape torch.Size([440]) from checkpoint, the shape in current model is torch.Size([512]).\n\tsize mismatch for layer3.0.bn2.bn.1.bias: copying a param with shape torch.Size([440]) from checkpoint, the shape in current model is torch.Size([512]).\n\tsize mismatch for layer3.0.bn2.bn.1.running_mean: copying a param with shape torch.Size([440]) from checkpoint, the shape in current model is torch.Size([512]).\n\tsize mismatch for layer3.0.bn2.bn.1.running_var: copying a param with shape torch.Size([440]) from checkpoint, the shape in current model is torch.Size([512]).\n\tsize mismatch for layer3.0.bn2.bn.2.weight: copying a param with shape torch.Size([512]) from checkpoint, the shape in current model is torch.Size([768]).\n\tsize mismatch for layer3.0.bn2.bn.2.bias: copying a param with shape torch.Size([512]) from checkpoint, the shape in current model is torch.Size([768]).\n\tsize mismatch for layer3.0.bn2.bn.2.running_mean: copying a param with shape torch.Size([512]) from checkpoint, the shape in current model is torch.Size([768]).\n\tsize mismatch for layer3.0.bn2.bn.2.running_var: copying a param with shape torch.Size([512]) from checkpoint, the shape in current model is torch.Size([768]).\n\tsize mismatch for layer3.0.bn2.bn.3.weight: copying a param with shape torch.Size([696]) from checkpoint, the shape in current model is torch.Size([1024]).\n\tsize mismatch for layer3.0.bn2.bn.3.bias: copying a param with shape torch.Size([696]) from checkpoint, the shape in current model is torch.Size([1024]).\n\tsize mismatch for layer3.0.bn2.bn.3.running_mean: copying a param with shape torch.Size([696]) from checkpoint, the shape in current model is torch.Size([1024]).\n\tsize mismatch for layer3.0.bn2.bn.3.running_var: copying a param with shape torch.Size([696]) from checkpoint, the shape in current model is torch.Size([1024]).\n\tsize mismatch for layer3.0.downsample.1.bn.1.weight: copying a param with shape torch.Size([440]) from checkpoint, the shape in current model is torch.Size([512]).\n\tsize mismatch for layer3.0.downsample.1.bn.1.bias: copying a param with shape torch.Size([440]) from checkpoint, the shape in current model is torch.Size([512]).\n\tsize mismatch for layer3.0.downsample.1.bn.1.running_mean: copying a param with shape torch.Size([440]) from checkpoint, the shape in current model is torch.Size([512]).\n\tsize mismatch for layer3.0.downsample.1.bn.1.running_var: copying a param with shape torch.Size([440]) from checkpoint, the shape in current model is torch.Size([512]).\n\tsize mismatch for layer3.0.downsample.1.bn.2.weight: copying a param with shape torch.Size([512]) from checkpoint, the shape in current model is torch.Size([768]).\n\tsize mismatch for layer3.0.downsample.1.bn.2.bias: copying a param with shape torch.Size([512]) from checkpoint, the shape in current model is torch.Size([768]).\n\tsize mismatch for layer3.0.downsample.1.bn.2.running_mean: copying a param with shape torch.Size([512]) from checkpoint, the shape in current model is torch.Size([768]).\n\tsize mismatch for layer3.0.downsample.1.bn.2.running_var: copying a param with shape torch.Size([512]) from checkpoint, the shape in current model is torch.Size([768]).\n\tsize mismatch for layer3.0.downsample.1.bn.3.weight: copying a param with shape torch.Size([696]) from checkpoint, the shape in current model is torch.Size([1024]).\n\tsize mismatch for layer3.0.downsample.1.bn.3.bias: copying a param with shape torch.Size([696]) from checkpoint, the shape in current model is torch.Size([1024]).\n\tsize mismatch for layer3.0.downsample.1.bn.3.running_mean: copying a param with shape torch.Size([696]) from checkpoint, the shape in current model is torch.Size([1024]).\n\tsize mismatch for layer3.0.downsample.1.bn.3.running_var: copying a param with shape torch.Size([696]) from checkpoint, the shape in current model is torch.Size([1024]).\n\tsize mismatch for layer3.1.bn1.bn.1.weight: copying a param with shape torch.Size([440]) from checkpoint, the shape in current model is torch.Size([512]).\n\tsize mismatch for layer3.1.bn1.bn.1.bias: copying a param with shape torch.Size([440]) from checkpoint, the shape in current model is torch.Size([512]).\n\tsize mismatch for layer3.1.bn1.bn.1.running_mean: copying a param with shape torch.Size([440]) from checkpoint, the shape in current model is torch.Size([512]).\n\tsize mismatch for layer3.1.bn1.bn.1.running_var: copying a param with shape torch.Size([440]) from checkpoint, the shape in current model is torch.Size([512]).\n\tsize mismatch for layer3.1.bn1.bn.2.weight: copying a param with shape torch.Size([512]) from checkpoint, the shape in current model is torch.Size([768]).\n\tsize mismatch for layer3.1.bn1.bn.2.bias: copying a param with shape torch.Size([512]) from checkpoint, the shape in current model is torch.Size([768]).\n\tsize mismatch for layer3.1.bn1.bn.2.running_mean: copying a param with shape torch.Size([512]) from checkpoint, the shape in current model is torch.Size([768]).\n\tsize mismatch for layer3.1.bn1.bn.2.running_var: copying a param with shape torch.Size([512]) from checkpoint, the shape in current model is torch.Size([768]).\n\tsize mismatch for layer3.1.bn1.bn.3.weight: copying a param with shape torch.Size([696]) from checkpoint, the shape in current model is torch.Size([1024]).\n\tsize mismatch for layer3.1.bn1.bn.3.bias: copying a param with shape torch.Size([696]) from checkpoint, the shape in current model is torch.Size([1024]).\n\tsize mismatch for layer3.1.bn1.bn.3.running_mean: copying a param with shape torch.Size([696]) from checkpoint, the shape in current model is torch.Size([1024]).\n\tsize mismatch for layer3.1.bn1.bn.3.running_var: copying a param with shape torch.Size([696]) from checkpoint, the shape in current model is torch.Size([1024]).\n\tsize mismatch for layer3.1.bn2.bn.1.weight: copying a param with shape torch.Size([440]) from checkpoint, the shape in current model is torch.Size([512]).\n\tsize mismatch for layer3.1.bn2.bn.1.bias: copying a param with shape torch.Size([440]) from checkpoint, the shape in current model is torch.Size([512]).\n\tsize mismatch for layer3.1.bn2.bn.1.running_mean: copying a param with shape torch.Size([440]) from checkpoint, the shape in current model is torch.Size([512]).\n\tsize mismatch for layer3.1.bn2.bn.1.running_var: copying a param with shape torch.Size([440]) from checkpoint, the shape in current model is torch.Size([512]).\n\tsize mismatch for layer3.1.bn2.bn.2.weight: copying a param with shape torch.Size([512]) from checkpoint, the shape in current model is torch.Size([768]).\n\tsize mismatch for layer3.1.bn2.bn.2.bias: copying a param with shape torch.Size([512]) from checkpoint, the shape in current model is torch.Size([768]).\n\tsize mismatch for layer3.1.bn2.bn.2.running_mean: copying a param with shape torch.Size([512]) from checkpoint, the shape in current model is torch.Size([768]).\n\tsize mismatch for layer3.1.bn2.bn.2.running_var: copying a param with shape torch.Size([512]) from checkpoint, the shape in current model is torch.Size([768]).\n\tsize mismatch for layer3.1.bn2.bn.3.weight: copying a param with shape torch.Size([696]) from checkpoint, the shape in current model is torch.Size([1024]).\n\tsize mismatch for layer3.1.bn2.bn.3.bias: copying a param with shape torch.Size([696]) from checkpoint, the shape in current model is torch.Size([1024]).\n\tsize mismatch for layer3.1.bn2.bn.3.running_mean: copying a param with shape torch.Size([696]) from checkpoint, the shape in current model is torch.Size([1024]).\n\tsize mismatch for layer3.1.bn2.bn.3.running_var: copying a param with shape torch.Size([696]) from checkpoint, the shape in current model is torch.Size([1024]).\n\tsize mismatch for layer4.0.bn1.bn.1.weight: copying a param with shape torch.Size([908]) from checkpoint, the shape in current model is torch.Size([1024]).\n\tsize mismatch for layer4.0.bn1.bn.1.bias: copying a param with shape torch.Size([908]) from checkpoint, the shape in current model is torch.Size([1024]).\n\tsize mismatch for layer4.0.bn1.bn.1.running_mean: copying a param with shape torch.Size([908]) from checkpoint, the shape in current model is torch.Size([1024]).\n\tsize mismatch for layer4.0.bn1.bn.1.running_var: copying a param with shape torch.Size([908]) from checkpoint, the shape in current model is torch.Size([1024]).\n\tsize mismatch for layer4.0.bn1.bn.2.weight: copying a param with shape torch.Size([1024]) from checkpoint, the shape in current model is torch.Size([1536]).\n\tsize mismatch for layer4.0.bn1.bn.2.bias: copying a param with shape torch.Size([1024]) from checkpoint, the shape in current model is torch.Size([1536]).\n\tsize mismatch for layer4.0.bn1.bn.2.running_mean: copying a param with shape torch.Size([1024]) from checkpoint, the shape in current model is torch.Size([1536]).\n\tsize mismatch for layer4.0.bn1.bn.2.running_var: copying a param with shape torch.Size([1024]) from checkpoint, the shape in current model is torch.Size([1536]).\n\tsize mismatch for layer4.0.bn1.bn.3.weight: copying a param with shape torch.Size([1420]) from checkpoint, the shape in current model is torch.Size([2048]).\n\tsize mismatch for layer4.0.bn1.bn.3.bias: copying a param with shape torch.Size([1420]) from checkpoint, the shape in current model is torch.Size([2048]).\n\tsize mismatch for layer4.0.bn1.bn.3.running_mean: copying a param with shape torch.Size([1420]) from checkpoint, the shape in current model is torch.Size([2048]).\n\tsize mismatch for layer4.0.bn1.bn.3.running_var: copying a param with shape torch.Size([1420]) from checkpoint, the shape in current model is torch.Size([2048]).\n\tsize mismatch for layer4.0.bn2.bn.1.weight: copying a param with shape torch.Size([908]) from checkpoint, the shape in current model is torch.Size([1024]).\n\tsize mismatch for layer4.0.bn2.bn.1.bias: copying a param with shape torch.Size([908]) from checkpoint, the shape in current model is torch.Size([1024]).\n\tsize mismatch for layer4.0.bn2.bn.1.running_mean: copying a param with shape torch.Size([908]) from checkpoint, the shape in current model is torch.Size([1024]).\n\tsize mismatch for layer4.0.bn2.bn.1.running_var: copying a param with shape torch.Size([908]) from checkpoint, the shape in current model is torch.Size([1024]).\n\tsize mismatch for layer4.0.bn2.bn.2.weight: copying a param with shape torch.Size([1024]) from checkpoint, the shape in current model is torch.Size([1536]).\n\tsize mismatch for layer4.0.bn2.bn.2.bias: copying a param with shape torch.Size([1024]) from checkpoint, the shape in current model is torch.Size([1536]).\n\tsize mismatch for layer4.0.bn2.bn.2.running_mean: copying a param with shape torch.Size([1024]) from checkpoint, the shape in current model is torch.Size([1536]).\n\tsize mismatch for layer4.0.bn2.bn.2.running_var: copying a param with shape torch.Size([1024]) from checkpoint, the shape in current model is torch.Size([1536]).\n\tsize mismatch for layer4.0.bn2.bn.3.weight: copying a param with shape torch.Size([1420]) from checkpoint, the shape in current model is torch.Size([2048]).\n\tsize mismatch for layer4.0.bn2.bn.3.bias: copying a param with shape torch.Size([1420]) from checkpoint, the shape in current model is torch.Size([2048]).\n\tsize mismatch for layer4.0.bn2.bn.3.running_mean: copying a param with shape torch.Size([1420]) from checkpoint, the shape in current model is torch.Size([2048]).\n\tsize mismatch for layer4.0.bn2.bn.3.running_var: copying a param with shape torch.Size([1420]) from checkpoint, the shape in current model is torch.Size([2048]).\n\tsize mismatch for layer4.0.downsample.1.bn.1.weight: copying a param with shape torch.Size([908]) from checkpoint, the shape in current model is torch.Size([1024]).\n\tsize mismatch for layer4.0.downsample.1.bn.1.bias: copying a param with shape torch.Size([908]) from checkpoint, the shape in current model is torch.Size([1024]).\n\tsize mismatch for layer4.0.downsample.1.bn.1.running_mean: copying a param with shape torch.Size([908]) from checkpoint, the shape in current model is torch.Size([1024]).\n\tsize mismatch for layer4.0.downsample.1.bn.1.running_var: copying a param with shape torch.Size([908]) from checkpoint, the shape in current model is torch.Size([1024]).\n\tsize mismatch for layer4.0.downsample.1.bn.2.weight: copying a param with shape torch.Size([1024]) from checkpoint, the shape in current model is torch.Size([1536]).\n\tsize mismatch for layer4.0.downsample.1.bn.2.bias: copying a param with shape torch.Size([1024]) from checkpoint, the shape in current model is torch.Size([1536]).\n\tsize mismatch for layer4.0.downsample.1.bn.2.running_mean: copying a param with shape torch.Size([1024]) from checkpoint, the shape in current model is torch.Size([1536]).\n\tsize mismatch for layer4.0.downsample.1.bn.2.running_var: copying a param with shape torch.Size([1024]) from checkpoint, the shape in current model is torch.Size([1536]).\n\tsize mismatch for layer4.0.downsample.1.bn.3.weight: copying a param with shape torch.Size([1420]) from checkpoint, the shape in current model is torch.Size([2048]).\n\tsize mismatch for layer4.0.downsample.1.bn.3.bias: copying a param with shape torch.Size([1420]) from checkpoint, the shape in current model is torch.Size([2048]).\n\tsize mismatch for layer4.0.downsample.1.bn.3.running_mean: copying a param with shape torch.Size([1420]) from checkpoint, the shape in current model is torch.Size([2048]).\n\tsize mismatch for layer4.0.downsample.1.bn.3.running_var: copying a param with shape torch.Size([1420]) from checkpoint, the shape in current model is torch.Size([2048]).\n\tsize mismatch for layer4.1.bn1.bn.1.weight: copying a param with shape torch.Size([908]) from checkpoint, the shape in current model is torch.Size([1024]).\n\tsize mismatch for layer4.1.bn1.bn.1.bias: copying a param with shape torch.Size([908]) from checkpoint, the shape in current model is torch.Size([1024]).\n\tsize mismatch for layer4.1.bn1.bn.1.running_mean: copying a param with shape torch.Size([908]) from checkpoint, the shape in current model is torch.Size([1024]).\n\tsize mismatch for layer4.1.bn1.bn.1.running_var: copying a param with shape torch.Size([908]) from checkpoint, the shape in current model is torch.Size([1024]).\n\tsize mismatch for layer4.1.bn1.bn.2.weight: copying a param with shape torch.Size([1024]) from checkpoint, the shape in current model is torch.Size([1536]).\n\tsize mismatch for layer4.1.bn1.bn.2.bias: copying a param with shape torch.Size([1024]) from checkpoint, the shape in current model is torch.Size([1536]).\n\tsize mismatch for layer4.1.bn1.bn.2.running_mean: copying a param with shape torch.Size([1024]) from checkpoint, the shape in current model is torch.Size([1536]).\n\tsize mismatch for layer4.1.bn1.bn.2.running_var: copying a param with shape torch.Size([1024]) from checkpoint, the shape in current model is torch.Size([1536]).\n\tsize mismatch for layer4.1.bn1.bn.3.weight: copying a param with shape torch.Size([1420]) from checkpoint, the shape in current model is torch.Size([2048]).\n\tsize mismatch for layer4.1.bn1.bn.3.bias: copying a param with shape torch.Size([1420]) from checkpoint, the shape in current model is torch.Size([2048]).\n\tsize mismatch for layer4.1.bn1.bn.3.running_mean: copying a param with shape torch.Size([1420]) from checkpoint, the shape in current model is torch.Size([2048]).\n\tsize mismatch for layer4.1.bn1.bn.3.running_var: copying a param with shape torch.Size([1420]) from checkpoint, the shape in current model is torch.Size([2048]).\n\tsize mismatch for layer4.1.bn2.bn.2.weight: copying a param with shape torch.Size([1024]) from checkpoint, the shape in current model is torch.Size([1536]).\n\tsize mismatch for layer4.1.bn2.bn.2.bias: copying a param with shape torch.Size([1024]) from checkpoint, the shape in current model is torch.Size([1536]).\n\tsize mismatch for layer4.1.bn2.bn.2.running_mean: copying a param with shape torch.Size([1024]) from checkpoint, the shape in current model is torch.Size([1536]).\n\tsize mismatch for layer4.1.bn2.bn.2.running_var: copying a param with shape torch.Size([1024]) from checkpoint, the shape in current model is torch.Size([1536]).\n\tsize mismatch for layer4.1.bn2.bn.3.weight: copying a param with shape torch.Size([1536]) from checkpoint, the shape in current model is torch.Size([2048]).\n\tsize mismatch for layer4.1.bn2.bn.3.bias: copying a param with shape torch.Size([1536]) from checkpoint, the shape in current model is torch.Size([2048]).\n\tsize mismatch for layer4.1.bn2.bn.3.running_mean: copying a param with shape torch.Size([1536]) from checkpoint, the shape in current model is torch.Size([2048]).\n\tsize mismatch for layer4.1.bn2.bn.3.running_var: copying a param with shape torch.Size([1536]) from checkpoint, the shape in current model is torch.Size([2048]).",
     "output_type": "error",
     "traceback": [
      "\u001b[0;31m---------------------------------------------------------------------------\u001b[0m",
      "\u001b[0;31mRuntimeError\u001b[0m                              Traceback (most recent call last)",
      "\u001b[1;32m/home/pdh/workspace/multiquant/test_trainer.ipynb 셀 4\u001b[0m line \u001b[0;36m8\n\u001b[1;32m      <a href='vscode-notebook-cell://attached-container%2B7b22636f6e7461696e65724e616d65223a222f323032335f6566666169222c2273657474696e6773223a7b22686f7374223a227373683a2f2f6b755f38375f706468227d7d/home/pdh/workspace/multiquant/test_trainer.ipynb#X21sdnNjb2RlLXJlbW90ZQ%3D%3D?line=5'>6</a>\u001b[0m \u001b[39mfor\u001b[39;00m key, value \u001b[39min\u001b[39;00m checkpoint[\u001b[39m'\u001b[39m\u001b[39mstate_dict\u001b[39m\u001b[39m'\u001b[39m]\u001b[39m.\u001b[39mitems():\n\u001b[1;32m      <a href='vscode-notebook-cell://attached-container%2B7b22636f6e7461696e65724e616d65223a222f323032335f6566666169222c2273657474696e6773223a7b22686f7374223a227373683a2f2f6b755f38375f706468227d7d/home/pdh/workspace/multiquant/test_trainer.ipynb#X21sdnNjb2RlLXJlbW90ZQ%3D%3D?line=6'>7</a>\u001b[0m     woddp_checkpoint[key\u001b[39m.\u001b[39mreplace(\u001b[39m'\u001b[39m\u001b[39mmodule.\u001b[39m\u001b[39m'\u001b[39m,\u001b[39m'\u001b[39m\u001b[39m'\u001b[39m)] \u001b[39m=\u001b[39m value\n\u001b[0;32m----> <a href='vscode-notebook-cell://attached-container%2B7b22636f6e7461696e65724e616d65223a222f323032335f6566666169222c2273657474696e6773223a7b22686f7374223a227373683a2f2f6b755f38375f706468227d7d/home/pdh/workspace/multiquant/test_trainer.ipynb#X21sdnNjb2RlLXJlbW90ZQ%3D%3D?line=7'>8</a>\u001b[0m model\u001b[39m.\u001b[39;49mload_state_dict(woddp_checkpoint, strict\u001b[39m=\u001b[39;49m\u001b[39mFalse\u001b[39;49;00m)\n",
      "File \u001b[0;32m/usr/local/lib/python3.10/dist-packages/torch/nn/modules/module.py:2091\u001b[0m, in \u001b[0;36mModule.load_state_dict\u001b[0;34m(self, state_dict, strict, assign)\u001b[0m\n\u001b[1;32m   2086\u001b[0m         error_msgs\u001b[39m.\u001b[39minsert(\n\u001b[1;32m   2087\u001b[0m             \u001b[39m0\u001b[39m, \u001b[39m'\u001b[39m\u001b[39mMissing key(s) in state_dict: \u001b[39m\u001b[39m{}\u001b[39;00m\u001b[39m. \u001b[39m\u001b[39m'\u001b[39m\u001b[39m.\u001b[39mformat(\n\u001b[1;32m   2088\u001b[0m                 \u001b[39m'\u001b[39m\u001b[39m, \u001b[39m\u001b[39m'\u001b[39m\u001b[39m.\u001b[39mjoin(\u001b[39m'\u001b[39m\u001b[39m\"\u001b[39m\u001b[39m{}\u001b[39;00m\u001b[39m\"\u001b[39m\u001b[39m'\u001b[39m\u001b[39m.\u001b[39mformat(k) \u001b[39mfor\u001b[39;00m k \u001b[39min\u001b[39;00m missing_keys)))\n\u001b[1;32m   2090\u001b[0m \u001b[39mif\u001b[39;00m \u001b[39mlen\u001b[39m(error_msgs) \u001b[39m>\u001b[39m \u001b[39m0\u001b[39m:\n\u001b[0;32m-> 2091\u001b[0m     \u001b[39mraise\u001b[39;00m \u001b[39mRuntimeError\u001b[39;00m(\u001b[39m'\u001b[39m\u001b[39mError(s) in loading state_dict for \u001b[39m\u001b[39m{}\u001b[39;00m\u001b[39m:\u001b[39m\u001b[39m\\n\u001b[39;00m\u001b[39m\\t\u001b[39;00m\u001b[39m{}\u001b[39;00m\u001b[39m'\u001b[39m\u001b[39m.\u001b[39mformat(\n\u001b[1;32m   2092\u001b[0m                        \u001b[39mself\u001b[39m\u001b[39m.\u001b[39m\u001b[39m__class__\u001b[39m\u001b[39m.\u001b[39m\u001b[39m__name__\u001b[39m, \u001b[39m\"\u001b[39m\u001b[39m\\n\u001b[39;00m\u001b[39m\\t\u001b[39;00m\u001b[39m\"\u001b[39m\u001b[39m.\u001b[39mjoin(error_msgs)))\n\u001b[1;32m   2093\u001b[0m \u001b[39mreturn\u001b[39;00m _IncompatibleKeys(missing_keys, unexpected_keys)\n",
      "\u001b[0;31mRuntimeError\u001b[0m: Error(s) in loading state_dict for QResNet:\n\tsize mismatch for layer1.0.bn1.bn.1.weight: copying a param with shape torch.Size([104]) from checkpoint, the shape in current model is torch.Size([128]).\n\tsize mismatch for layer1.0.bn1.bn.1.bias: copying a param with shape torch.Size([104]) from checkpoint, the shape in current model is torch.Size([128]).\n\tsize mismatch for layer1.0.bn1.bn.1.running_mean: copying a param with shape torch.Size([104]) from checkpoint, the shape in current model is torch.Size([128]).\n\tsize mismatch for layer1.0.bn1.bn.1.running_var: copying a param with shape torch.Size([104]) from checkpoint, the shape in current model is torch.Size([128]).\n\tsize mismatch for layer1.0.bn1.bn.2.weight: copying a param with shape torch.Size([128]) from checkpoint, the shape in current model is torch.Size([192]).\n\tsize mismatch for layer1.0.bn1.bn.2.bias: copying a param with shape torch.Size([128]) from checkpoint, the shape in current model is torch.Size([192]).\n\tsize mismatch for layer1.0.bn1.bn.2.running_mean: copying a param with shape torch.Size([128]) from checkpoint, the shape in current model is torch.Size([192]).\n\tsize mismatch for layer1.0.bn1.bn.2.running_var: copying a param with shape torch.Size([128]) from checkpoint, the shape in current model is torch.Size([192]).\n\tsize mismatch for layer1.0.bn1.bn.3.weight: copying a param with shape torch.Size([168]) from checkpoint, the shape in current model is torch.Size([256]).\n\tsize mismatch for layer1.0.bn1.bn.3.bias: copying a param with shape torch.Size([168]) from checkpoint, the shape in current model is torch.Size([256]).\n\tsize mismatch for layer1.0.bn1.bn.3.running_mean: copying a param with shape torch.Size([168]) from checkpoint, the shape in current model is torch.Size([256]).\n\tsize mismatch for layer1.0.bn1.bn.3.running_var: copying a param with shape torch.Size([168]) from checkpoint, the shape in current model is torch.Size([256]).\n\tsize mismatch for layer1.0.bn2.bn.1.weight: copying a param with shape torch.Size([104]) from checkpoint, the shape in current model is torch.Size([128]).\n\tsize mismatch for layer1.0.bn2.bn.1.bias: copying a param with shape torch.Size([104]) from checkpoint, the shape in current model is torch.Size([128]).\n\tsize mismatch for layer1.0.bn2.bn.1.running_mean: copying a param with shape torch.Size([104]) from checkpoint, the shape in current model is torch.Size([128]).\n\tsize mismatch for layer1.0.bn2.bn.1.running_var: copying a param with shape torch.Size([104]) from checkpoint, the shape in current model is torch.Size([128]).\n\tsize mismatch for layer1.0.bn2.bn.2.weight: copying a param with shape torch.Size([128]) from checkpoint, the shape in current model is torch.Size([192]).\n\tsize mismatch for layer1.0.bn2.bn.2.bias: copying a param with shape torch.Size([128]) from checkpoint, the shape in current model is torch.Size([192]).\n\tsize mismatch for layer1.0.bn2.bn.2.running_mean: copying a param with shape torch.Size([128]) from checkpoint, the shape in current model is torch.Size([192]).\n\tsize mismatch for layer1.0.bn2.bn.2.running_var: copying a param with shape torch.Size([128]) from checkpoint, the shape in current model is torch.Size([192]).\n\tsize mismatch for layer1.0.bn2.bn.3.weight: copying a param with shape torch.Size([168]) from checkpoint, the shape in current model is torch.Size([256]).\n\tsize mismatch for layer1.0.bn2.bn.3.bias: copying a param with shape torch.Size([168]) from checkpoint, the shape in current model is torch.Size([256]).\n\tsize mismatch for layer1.0.bn2.bn.3.running_mean: copying a param with shape torch.Size([168]) from checkpoint, the shape in current model is torch.Size([256]).\n\tsize mismatch for layer1.0.bn2.bn.3.running_var: copying a param with shape torch.Size([168]) from checkpoint, the shape in current model is torch.Size([256]).\n\tsize mismatch for layer1.1.bn1.bn.1.weight: copying a param with shape torch.Size([104]) from checkpoint, the shape in current model is torch.Size([128]).\n\tsize mismatch for layer1.1.bn1.bn.1.bias: copying a param with shape torch.Size([104]) from checkpoint, the shape in current model is torch.Size([128]).\n\tsize mismatch for layer1.1.bn1.bn.1.running_mean: copying a param with shape torch.Size([104]) from checkpoint, the shape in current model is torch.Size([128]).\n\tsize mismatch for layer1.1.bn1.bn.1.running_var: copying a param with shape torch.Size([104]) from checkpoint, the shape in current model is torch.Size([128]).\n\tsize mismatch for layer1.1.bn1.bn.2.weight: copying a param with shape torch.Size([128]) from checkpoint, the shape in current model is torch.Size([192]).\n\tsize mismatch for layer1.1.bn1.bn.2.bias: copying a param with shape torch.Size([128]) from checkpoint, the shape in current model is torch.Size([192]).\n\tsize mismatch for layer1.1.bn1.bn.2.running_mean: copying a param with shape torch.Size([128]) from checkpoint, the shape in current model is torch.Size([192]).\n\tsize mismatch for layer1.1.bn1.bn.2.running_var: copying a param with shape torch.Size([128]) from checkpoint, the shape in current model is torch.Size([192]).\n\tsize mismatch for layer1.1.bn1.bn.3.weight: copying a param with shape torch.Size([168]) from checkpoint, the shape in current model is torch.Size([256]).\n\tsize mismatch for layer1.1.bn1.bn.3.bias: copying a param with shape torch.Size([168]) from checkpoint, the shape in current model is torch.Size([256]).\n\tsize mismatch for layer1.1.bn1.bn.3.running_mean: copying a param with shape torch.Size([168]) from checkpoint, the shape in current model is torch.Size([256]).\n\tsize mismatch for layer1.1.bn1.bn.3.running_var: copying a param with shape torch.Size([168]) from checkpoint, the shape in current model is torch.Size([256]).\n\tsize mismatch for layer1.1.bn2.bn.1.weight: copying a param with shape torch.Size([104]) from checkpoint, the shape in current model is torch.Size([128]).\n\tsize mismatch for layer1.1.bn2.bn.1.bias: copying a param with shape torch.Size([104]) from checkpoint, the shape in current model is torch.Size([128]).\n\tsize mismatch for layer1.1.bn2.bn.1.running_mean: copying a param with shape torch.Size([104]) from checkpoint, the shape in current model is torch.Size([128]).\n\tsize mismatch for layer1.1.bn2.bn.1.running_var: copying a param with shape torch.Size([104]) from checkpoint, the shape in current model is torch.Size([128]).\n\tsize mismatch for layer1.1.bn2.bn.2.weight: copying a param with shape torch.Size([128]) from checkpoint, the shape in current model is torch.Size([192]).\n\tsize mismatch for layer1.1.bn2.bn.2.bias: copying a param with shape torch.Size([128]) from checkpoint, the shape in current model is torch.Size([192]).\n\tsize mismatch for layer1.1.bn2.bn.2.running_mean: copying a param with shape torch.Size([128]) from checkpoint, the shape in current model is torch.Size([192]).\n\tsize mismatch for layer1.1.bn2.bn.2.running_var: copying a param with shape torch.Size([128]) from checkpoint, the shape in current model is torch.Size([192]).\n\tsize mismatch for layer1.1.bn2.bn.3.weight: copying a param with shape torch.Size([168]) from checkpoint, the shape in current model is torch.Size([256]).\n\tsize mismatch for layer1.1.bn2.bn.3.bias: copying a param with shape torch.Size([168]) from checkpoint, the shape in current model is torch.Size([256]).\n\tsize mismatch for layer1.1.bn2.bn.3.running_mean: copying a param with shape torch.Size([168]) from checkpoint, the shape in current model is torch.Size([256]).\n\tsize mismatch for layer1.1.bn2.bn.3.running_var: copying a param with shape torch.Size([168]) from checkpoint, the shape in current model is torch.Size([256]).\n\tsize mismatch for layer2.0.bn1.bn.1.weight: copying a param with shape torch.Size([204]) from checkpoint, the shape in current model is torch.Size([256]).\n\tsize mismatch for layer2.0.bn1.bn.1.bias: copying a param with shape torch.Size([204]) from checkpoint, the shape in current model is torch.Size([256]).\n\tsize mismatch for layer2.0.bn1.bn.1.running_mean: copying a param with shape torch.Size([204]) from checkpoint, the shape in current model is torch.Size([256]).\n\tsize mismatch for layer2.0.bn1.bn.1.running_var: copying a param with shape torch.Size([204]) from checkpoint, the shape in current model is torch.Size([256]).\n\tsize mismatch for layer2.0.bn1.bn.2.weight: copying a param with shape torch.Size([256]) from checkpoint, the shape in current model is torch.Size([384]).\n\tsize mismatch for layer2.0.bn1.bn.2.bias: copying a param with shape torch.Size([256]) from checkpoint, the shape in current model is torch.Size([384]).\n\tsize mismatch for layer2.0.bn1.bn.2.running_mean: copying a param with shape torch.Size([256]) from checkpoint, the shape in current model is torch.Size([384]).\n\tsize mismatch for layer2.0.bn1.bn.2.running_var: copying a param with shape torch.Size([256]) from checkpoint, the shape in current model is torch.Size([384]).\n\tsize mismatch for layer2.0.bn1.bn.3.weight: copying a param with shape torch.Size([332]) from checkpoint, the shape in current model is torch.Size([512]).\n\tsize mismatch for layer2.0.bn1.bn.3.bias: copying a param with shape torch.Size([332]) from checkpoint, the shape in current model is torch.Size([512]).\n\tsize mismatch for layer2.0.bn1.bn.3.running_mean: copying a param with shape torch.Size([332]) from checkpoint, the shape in current model is torch.Size([512]).\n\tsize mismatch for layer2.0.bn1.bn.3.running_var: copying a param with shape torch.Size([332]) from checkpoint, the shape in current model is torch.Size([512]).\n\tsize mismatch for layer2.0.bn2.bn.1.weight: copying a param with shape torch.Size([204]) from checkpoint, the shape in current model is torch.Size([256]).\n\tsize mismatch for layer2.0.bn2.bn.1.bias: copying a param with shape torch.Size([204]) from checkpoint, the shape in current model is torch.Size([256]).\n\tsize mismatch for layer2.0.bn2.bn.1.running_mean: copying a param with shape torch.Size([204]) from checkpoint, the shape in current model is torch.Size([256]).\n\tsize mismatch for layer2.0.bn2.bn.1.running_var: copying a param with shape torch.Size([204]) from checkpoint, the shape in current model is torch.Size([256]).\n\tsize mismatch for layer2.0.bn2.bn.2.weight: copying a param with shape torch.Size([256]) from checkpoint, the shape in current model is torch.Size([384]).\n\tsize mismatch for layer2.0.bn2.bn.2.bias: copying a param with shape torch.Size([256]) from checkpoint, the shape in current model is torch.Size([384]).\n\tsize mismatch for layer2.0.bn2.bn.2.running_mean: copying a param with shape torch.Size([256]) from checkpoint, the shape in current model is torch.Size([384]).\n\tsize mismatch for layer2.0.bn2.bn.2.running_var: copying a param with shape torch.Size([256]) from checkpoint, the shape in current model is torch.Size([384]).\n\tsize mismatch for layer2.0.bn2.bn.3.weight: copying a param with shape torch.Size([332]) from checkpoint, the shape in current model is torch.Size([512]).\n\tsize mismatch for layer2.0.bn2.bn.3.bias: copying a param with shape torch.Size([332]) from checkpoint, the shape in current model is torch.Size([512]).\n\tsize mismatch for layer2.0.bn2.bn.3.running_mean: copying a param with shape torch.Size([332]) from checkpoint, the shape in current model is torch.Size([512]).\n\tsize mismatch for layer2.0.bn2.bn.3.running_var: copying a param with shape torch.Size([332]) from checkpoint, the shape in current model is torch.Size([512]).\n\tsize mismatch for layer2.0.downsample.1.bn.1.weight: copying a param with shape torch.Size([204]) from checkpoint, the shape in current model is torch.Size([256]).\n\tsize mismatch for layer2.0.downsample.1.bn.1.bias: copying a param with shape torch.Size([204]) from checkpoint, the shape in current model is torch.Size([256]).\n\tsize mismatch for layer2.0.downsample.1.bn.1.running_mean: copying a param with shape torch.Size([204]) from checkpoint, the shape in current model is torch.Size([256]).\n\tsize mismatch for layer2.0.downsample.1.bn.1.running_var: copying a param with shape torch.Size([204]) from checkpoint, the shape in current model is torch.Size([256]).\n\tsize mismatch for layer2.0.downsample.1.bn.2.weight: copying a param with shape torch.Size([256]) from checkpoint, the shape in current model is torch.Size([384]).\n\tsize mismatch for layer2.0.downsample.1.bn.2.bias: copying a param with shape torch.Size([256]) from checkpoint, the shape in current model is torch.Size([384]).\n\tsize mismatch for layer2.0.downsample.1.bn.2.running_mean: copying a param with shape torch.Size([256]) from checkpoint, the shape in current model is torch.Size([384]).\n\tsize mismatch for layer2.0.downsample.1.bn.2.running_var: copying a param with shape torch.Size([256]) from checkpoint, the shape in current model is torch.Size([384]).\n\tsize mismatch for layer2.0.downsample.1.bn.3.weight: copying a param with shape torch.Size([332]) from checkpoint, the shape in current model is torch.Size([512]).\n\tsize mismatch for layer2.0.downsample.1.bn.3.bias: copying a param with shape torch.Size([332]) from checkpoint, the shape in current model is torch.Size([512]).\n\tsize mismatch for layer2.0.downsample.1.bn.3.running_mean: copying a param with shape torch.Size([332]) from checkpoint, the shape in current model is torch.Size([512]).\n\tsize mismatch for layer2.0.downsample.1.bn.3.running_var: copying a param with shape torch.Size([332]) from checkpoint, the shape in current model is torch.Size([512]).\n\tsize mismatch for layer2.1.bn1.bn.1.weight: copying a param with shape torch.Size([204]) from checkpoint, the shape in current model is torch.Size([256]).\n\tsize mismatch for layer2.1.bn1.bn.1.bias: copying a param with shape torch.Size([204]) from checkpoint, the shape in current model is torch.Size([256]).\n\tsize mismatch for layer2.1.bn1.bn.1.running_mean: copying a param with shape torch.Size([204]) from checkpoint, the shape in current model is torch.Size([256]).\n\tsize mismatch for layer2.1.bn1.bn.1.running_var: copying a param with shape torch.Size([204]) from checkpoint, the shape in current model is torch.Size([256]).\n\tsize mismatch for layer2.1.bn1.bn.2.weight: copying a param with shape torch.Size([256]) from checkpoint, the shape in current model is torch.Size([384]).\n\tsize mismatch for layer2.1.bn1.bn.2.bias: copying a param with shape torch.Size([256]) from checkpoint, the shape in current model is torch.Size([384]).\n\tsize mismatch for layer2.1.bn1.bn.2.running_mean: copying a param with shape torch.Size([256]) from checkpoint, the shape in current model is torch.Size([384]).\n\tsize mismatch for layer2.1.bn1.bn.2.running_var: copying a param with shape torch.Size([256]) from checkpoint, the shape in current model is torch.Size([384]).\n\tsize mismatch for layer2.1.bn1.bn.3.weight: copying a param with shape torch.Size([332]) from checkpoint, the shape in current model is torch.Size([512]).\n\tsize mismatch for layer2.1.bn1.bn.3.bias: copying a param with shape torch.Size([332]) from checkpoint, the shape in current model is torch.Size([512]).\n\tsize mismatch for layer2.1.bn1.bn.3.running_mean: copying a param with shape torch.Size([332]) from checkpoint, the shape in current model is torch.Size([512]).\n\tsize mismatch for layer2.1.bn1.bn.3.running_var: copying a param with shape torch.Size([332]) from checkpoint, the shape in current model is torch.Size([512]).\n\tsize mismatch for layer2.1.bn2.bn.1.weight: copying a param with shape torch.Size([204]) from checkpoint, the shape in current model is torch.Size([256]).\n\tsize mismatch for layer2.1.bn2.bn.1.bias: copying a param with shape torch.Size([204]) from checkpoint, the shape in current model is torch.Size([256]).\n\tsize mismatch for layer2.1.bn2.bn.1.running_mean: copying a param with shape torch.Size([204]) from checkpoint, the shape in current model is torch.Size([256]).\n\tsize mismatch for layer2.1.bn2.bn.1.running_var: copying a param with shape torch.Size([204]) from checkpoint, the shape in current model is torch.Size([256]).\n\tsize mismatch for layer2.1.bn2.bn.2.weight: copying a param with shape torch.Size([256]) from checkpoint, the shape in current model is torch.Size([384]).\n\tsize mismatch for layer2.1.bn2.bn.2.bias: copying a param with shape torch.Size([256]) from checkpoint, the shape in current model is torch.Size([384]).\n\tsize mismatch for layer2.1.bn2.bn.2.running_mean: copying a param with shape torch.Size([256]) from checkpoint, the shape in current model is torch.Size([384]).\n\tsize mismatch for layer2.1.bn2.bn.2.running_var: copying a param with shape torch.Size([256]) from checkpoint, the shape in current model is torch.Size([384]).\n\tsize mismatch for layer2.1.bn2.bn.3.weight: copying a param with shape torch.Size([332]) from checkpoint, the shape in current model is torch.Size([512]).\n\tsize mismatch for layer2.1.bn2.bn.3.bias: copying a param with shape torch.Size([332]) from checkpoint, the shape in current model is torch.Size([512]).\n\tsize mismatch for layer2.1.bn2.bn.3.running_mean: copying a param with shape torch.Size([332]) from checkpoint, the shape in current model is torch.Size([512]).\n\tsize mismatch for layer2.1.bn2.bn.3.running_var: copying a param with shape torch.Size([332]) from checkpoint, the shape in current model is torch.Size([512]).\n\tsize mismatch for layer3.0.bn1.bn.1.weight: copying a param with shape torch.Size([440]) from checkpoint, the shape in current model is torch.Size([512]).\n\tsize mismatch for layer3.0.bn1.bn.1.bias: copying a param with shape torch.Size([440]) from checkpoint, the shape in current model is torch.Size([512]).\n\tsize mismatch for layer3.0.bn1.bn.1.running_mean: copying a param with shape torch.Size([440]) from checkpoint, the shape in current model is torch.Size([512]).\n\tsize mismatch for layer3.0.bn1.bn.1.running_var: copying a param with shape torch.Size([440]) from checkpoint, the shape in current model is torch.Size([512]).\n\tsize mismatch for layer3.0.bn1.bn.2.weight: copying a param with shape torch.Size([512]) from checkpoint, the shape in current model is torch.Size([768]).\n\tsize mismatch for layer3.0.bn1.bn.2.bias: copying a param with shape torch.Size([512]) from checkpoint, the shape in current model is torch.Size([768]).\n\tsize mismatch for layer3.0.bn1.bn.2.running_mean: copying a param with shape torch.Size([512]) from checkpoint, the shape in current model is torch.Size([768]).\n\tsize mismatch for layer3.0.bn1.bn.2.running_var: copying a param with shape torch.Size([512]) from checkpoint, the shape in current model is torch.Size([768]).\n\tsize mismatch for layer3.0.bn1.bn.3.weight: copying a param with shape torch.Size([696]) from checkpoint, the shape in current model is torch.Size([1024]).\n\tsize mismatch for layer3.0.bn1.bn.3.bias: copying a param with shape torch.Size([696]) from checkpoint, the shape in current model is torch.Size([1024]).\n\tsize mismatch for layer3.0.bn1.bn.3.running_mean: copying a param with shape torch.Size([696]) from checkpoint, the shape in current model is torch.Size([1024]).\n\tsize mismatch for layer3.0.bn1.bn.3.running_var: copying a param with shape torch.Size([696]) from checkpoint, the shape in current model is torch.Size([1024]).\n\tsize mismatch for layer3.0.bn2.bn.1.weight: copying a param with shape torch.Size([440]) from checkpoint, the shape in current model is torch.Size([512]).\n\tsize mismatch for layer3.0.bn2.bn.1.bias: copying a param with shape torch.Size([440]) from checkpoint, the shape in current model is torch.Size([512]).\n\tsize mismatch for layer3.0.bn2.bn.1.running_mean: copying a param with shape torch.Size([440]) from checkpoint, the shape in current model is torch.Size([512]).\n\tsize mismatch for layer3.0.bn2.bn.1.running_var: copying a param with shape torch.Size([440]) from checkpoint, the shape in current model is torch.Size([512]).\n\tsize mismatch for layer3.0.bn2.bn.2.weight: copying a param with shape torch.Size([512]) from checkpoint, the shape in current model is torch.Size([768]).\n\tsize mismatch for layer3.0.bn2.bn.2.bias: copying a param with shape torch.Size([512]) from checkpoint, the shape in current model is torch.Size([768]).\n\tsize mismatch for layer3.0.bn2.bn.2.running_mean: copying a param with shape torch.Size([512]) from checkpoint, the shape in current model is torch.Size([768]).\n\tsize mismatch for layer3.0.bn2.bn.2.running_var: copying a param with shape torch.Size([512]) from checkpoint, the shape in current model is torch.Size([768]).\n\tsize mismatch for layer3.0.bn2.bn.3.weight: copying a param with shape torch.Size([696]) from checkpoint, the shape in current model is torch.Size([1024]).\n\tsize mismatch for layer3.0.bn2.bn.3.bias: copying a param with shape torch.Size([696]) from checkpoint, the shape in current model is torch.Size([1024]).\n\tsize mismatch for layer3.0.bn2.bn.3.running_mean: copying a param with shape torch.Size([696]) from checkpoint, the shape in current model is torch.Size([1024]).\n\tsize mismatch for layer3.0.bn2.bn.3.running_var: copying a param with shape torch.Size([696]) from checkpoint, the shape in current model is torch.Size([1024]).\n\tsize mismatch for layer3.0.downsample.1.bn.1.weight: copying a param with shape torch.Size([440]) from checkpoint, the shape in current model is torch.Size([512]).\n\tsize mismatch for layer3.0.downsample.1.bn.1.bias: copying a param with shape torch.Size([440]) from checkpoint, the shape in current model is torch.Size([512]).\n\tsize mismatch for layer3.0.downsample.1.bn.1.running_mean: copying a param with shape torch.Size([440]) from checkpoint, the shape in current model is torch.Size([512]).\n\tsize mismatch for layer3.0.downsample.1.bn.1.running_var: copying a param with shape torch.Size([440]) from checkpoint, the shape in current model is torch.Size([512]).\n\tsize mismatch for layer3.0.downsample.1.bn.2.weight: copying a param with shape torch.Size([512]) from checkpoint, the shape in current model is torch.Size([768]).\n\tsize mismatch for layer3.0.downsample.1.bn.2.bias: copying a param with shape torch.Size([512]) from checkpoint, the shape in current model is torch.Size([768]).\n\tsize mismatch for layer3.0.downsample.1.bn.2.running_mean: copying a param with shape torch.Size([512]) from checkpoint, the shape in current model is torch.Size([768]).\n\tsize mismatch for layer3.0.downsample.1.bn.2.running_var: copying a param with shape torch.Size([512]) from checkpoint, the shape in current model is torch.Size([768]).\n\tsize mismatch for layer3.0.downsample.1.bn.3.weight: copying a param with shape torch.Size([696]) from checkpoint, the shape in current model is torch.Size([1024]).\n\tsize mismatch for layer3.0.downsample.1.bn.3.bias: copying a param with shape torch.Size([696]) from checkpoint, the shape in current model is torch.Size([1024]).\n\tsize mismatch for layer3.0.downsample.1.bn.3.running_mean: copying a param with shape torch.Size([696]) from checkpoint, the shape in current model is torch.Size([1024]).\n\tsize mismatch for layer3.0.downsample.1.bn.3.running_var: copying a param with shape torch.Size([696]) from checkpoint, the shape in current model is torch.Size([1024]).\n\tsize mismatch for layer3.1.bn1.bn.1.weight: copying a param with shape torch.Size([440]) from checkpoint, the shape in current model is torch.Size([512]).\n\tsize mismatch for layer3.1.bn1.bn.1.bias: copying a param with shape torch.Size([440]) from checkpoint, the shape in current model is torch.Size([512]).\n\tsize mismatch for layer3.1.bn1.bn.1.running_mean: copying a param with shape torch.Size([440]) from checkpoint, the shape in current model is torch.Size([512]).\n\tsize mismatch for layer3.1.bn1.bn.1.running_var: copying a param with shape torch.Size([440]) from checkpoint, the shape in current model is torch.Size([512]).\n\tsize mismatch for layer3.1.bn1.bn.2.weight: copying a param with shape torch.Size([512]) from checkpoint, the shape in current model is torch.Size([768]).\n\tsize mismatch for layer3.1.bn1.bn.2.bias: copying a param with shape torch.Size([512]) from checkpoint, the shape in current model is torch.Size([768]).\n\tsize mismatch for layer3.1.bn1.bn.2.running_mean: copying a param with shape torch.Size([512]) from checkpoint, the shape in current model is torch.Size([768]).\n\tsize mismatch for layer3.1.bn1.bn.2.running_var: copying a param with shape torch.Size([512]) from checkpoint, the shape in current model is torch.Size([768]).\n\tsize mismatch for layer3.1.bn1.bn.3.weight: copying a param with shape torch.Size([696]) from checkpoint, the shape in current model is torch.Size([1024]).\n\tsize mismatch for layer3.1.bn1.bn.3.bias: copying a param with shape torch.Size([696]) from checkpoint, the shape in current model is torch.Size([1024]).\n\tsize mismatch for layer3.1.bn1.bn.3.running_mean: copying a param with shape torch.Size([696]) from checkpoint, the shape in current model is torch.Size([1024]).\n\tsize mismatch for layer3.1.bn1.bn.3.running_var: copying a param with shape torch.Size([696]) from checkpoint, the shape in current model is torch.Size([1024]).\n\tsize mismatch for layer3.1.bn2.bn.1.weight: copying a param with shape torch.Size([440]) from checkpoint, the shape in current model is torch.Size([512]).\n\tsize mismatch for layer3.1.bn2.bn.1.bias: copying a param with shape torch.Size([440]) from checkpoint, the shape in current model is torch.Size([512]).\n\tsize mismatch for layer3.1.bn2.bn.1.running_mean: copying a param with shape torch.Size([440]) from checkpoint, the shape in current model is torch.Size([512]).\n\tsize mismatch for layer3.1.bn2.bn.1.running_var: copying a param with shape torch.Size([440]) from checkpoint, the shape in current model is torch.Size([512]).\n\tsize mismatch for layer3.1.bn2.bn.2.weight: copying a param with shape torch.Size([512]) from checkpoint, the shape in current model is torch.Size([768]).\n\tsize mismatch for layer3.1.bn2.bn.2.bias: copying a param with shape torch.Size([512]) from checkpoint, the shape in current model is torch.Size([768]).\n\tsize mismatch for layer3.1.bn2.bn.2.running_mean: copying a param with shape torch.Size([512]) from checkpoint, the shape in current model is torch.Size([768]).\n\tsize mismatch for layer3.1.bn2.bn.2.running_var: copying a param with shape torch.Size([512]) from checkpoint, the shape in current model is torch.Size([768]).\n\tsize mismatch for layer3.1.bn2.bn.3.weight: copying a param with shape torch.Size([696]) from checkpoint, the shape in current model is torch.Size([1024]).\n\tsize mismatch for layer3.1.bn2.bn.3.bias: copying a param with shape torch.Size([696]) from checkpoint, the shape in current model is torch.Size([1024]).\n\tsize mismatch for layer3.1.bn2.bn.3.running_mean: copying a param with shape torch.Size([696]) from checkpoint, the shape in current model is torch.Size([1024]).\n\tsize mismatch for layer3.1.bn2.bn.3.running_var: copying a param with shape torch.Size([696]) from checkpoint, the shape in current model is torch.Size([1024]).\n\tsize mismatch for layer4.0.bn1.bn.1.weight: copying a param with shape torch.Size([908]) from checkpoint, the shape in current model is torch.Size([1024]).\n\tsize mismatch for layer4.0.bn1.bn.1.bias: copying a param with shape torch.Size([908]) from checkpoint, the shape in current model is torch.Size([1024]).\n\tsize mismatch for layer4.0.bn1.bn.1.running_mean: copying a param with shape torch.Size([908]) from checkpoint, the shape in current model is torch.Size([1024]).\n\tsize mismatch for layer4.0.bn1.bn.1.running_var: copying a param with shape torch.Size([908]) from checkpoint, the shape in current model is torch.Size([1024]).\n\tsize mismatch for layer4.0.bn1.bn.2.weight: copying a param with shape torch.Size([1024]) from checkpoint, the shape in current model is torch.Size([1536]).\n\tsize mismatch for layer4.0.bn1.bn.2.bias: copying a param with shape torch.Size([1024]) from checkpoint, the shape in current model is torch.Size([1536]).\n\tsize mismatch for layer4.0.bn1.bn.2.running_mean: copying a param with shape torch.Size([1024]) from checkpoint, the shape in current model is torch.Size([1536]).\n\tsize mismatch for layer4.0.bn1.bn.2.running_var: copying a param with shape torch.Size([1024]) from checkpoint, the shape in current model is torch.Size([1536]).\n\tsize mismatch for layer4.0.bn1.bn.3.weight: copying a param with shape torch.Size([1420]) from checkpoint, the shape in current model is torch.Size([2048]).\n\tsize mismatch for layer4.0.bn1.bn.3.bias: copying a param with shape torch.Size([1420]) from checkpoint, the shape in current model is torch.Size([2048]).\n\tsize mismatch for layer4.0.bn1.bn.3.running_mean: copying a param with shape torch.Size([1420]) from checkpoint, the shape in current model is torch.Size([2048]).\n\tsize mismatch for layer4.0.bn1.bn.3.running_var: copying a param with shape torch.Size([1420]) from checkpoint, the shape in current model is torch.Size([2048]).\n\tsize mismatch for layer4.0.bn2.bn.1.weight: copying a param with shape torch.Size([908]) from checkpoint, the shape in current model is torch.Size([1024]).\n\tsize mismatch for layer4.0.bn2.bn.1.bias: copying a param with shape torch.Size([908]) from checkpoint, the shape in current model is torch.Size([1024]).\n\tsize mismatch for layer4.0.bn2.bn.1.running_mean: copying a param with shape torch.Size([908]) from checkpoint, the shape in current model is torch.Size([1024]).\n\tsize mismatch for layer4.0.bn2.bn.1.running_var: copying a param with shape torch.Size([908]) from checkpoint, the shape in current model is torch.Size([1024]).\n\tsize mismatch for layer4.0.bn2.bn.2.weight: copying a param with shape torch.Size([1024]) from checkpoint, the shape in current model is torch.Size([1536]).\n\tsize mismatch for layer4.0.bn2.bn.2.bias: copying a param with shape torch.Size([1024]) from checkpoint, the shape in current model is torch.Size([1536]).\n\tsize mismatch for layer4.0.bn2.bn.2.running_mean: copying a param with shape torch.Size([1024]) from checkpoint, the shape in current model is torch.Size([1536]).\n\tsize mismatch for layer4.0.bn2.bn.2.running_var: copying a param with shape torch.Size([1024]) from checkpoint, the shape in current model is torch.Size([1536]).\n\tsize mismatch for layer4.0.bn2.bn.3.weight: copying a param with shape torch.Size([1420]) from checkpoint, the shape in current model is torch.Size([2048]).\n\tsize mismatch for layer4.0.bn2.bn.3.bias: copying a param with shape torch.Size([1420]) from checkpoint, the shape in current model is torch.Size([2048]).\n\tsize mismatch for layer4.0.bn2.bn.3.running_mean: copying a param with shape torch.Size([1420]) from checkpoint, the shape in current model is torch.Size([2048]).\n\tsize mismatch for layer4.0.bn2.bn.3.running_var: copying a param with shape torch.Size([1420]) from checkpoint, the shape in current model is torch.Size([2048]).\n\tsize mismatch for layer4.0.downsample.1.bn.1.weight: copying a param with shape torch.Size([908]) from checkpoint, the shape in current model is torch.Size([1024]).\n\tsize mismatch for layer4.0.downsample.1.bn.1.bias: copying a param with shape torch.Size([908]) from checkpoint, the shape in current model is torch.Size([1024]).\n\tsize mismatch for layer4.0.downsample.1.bn.1.running_mean: copying a param with shape torch.Size([908]) from checkpoint, the shape in current model is torch.Size([1024]).\n\tsize mismatch for layer4.0.downsample.1.bn.1.running_var: copying a param with shape torch.Size([908]) from checkpoint, the shape in current model is torch.Size([1024]).\n\tsize mismatch for layer4.0.downsample.1.bn.2.weight: copying a param with shape torch.Size([1024]) from checkpoint, the shape in current model is torch.Size([1536]).\n\tsize mismatch for layer4.0.downsample.1.bn.2.bias: copying a param with shape torch.Size([1024]) from checkpoint, the shape in current model is torch.Size([1536]).\n\tsize mismatch for layer4.0.downsample.1.bn.2.running_mean: copying a param with shape torch.Size([1024]) from checkpoint, the shape in current model is torch.Size([1536]).\n\tsize mismatch for layer4.0.downsample.1.bn.2.running_var: copying a param with shape torch.Size([1024]) from checkpoint, the shape in current model is torch.Size([1536]).\n\tsize mismatch for layer4.0.downsample.1.bn.3.weight: copying a param with shape torch.Size([1420]) from checkpoint, the shape in current model is torch.Size([2048]).\n\tsize mismatch for layer4.0.downsample.1.bn.3.bias: copying a param with shape torch.Size([1420]) from checkpoint, the shape in current model is torch.Size([2048]).\n\tsize mismatch for layer4.0.downsample.1.bn.3.running_mean: copying a param with shape torch.Size([1420]) from checkpoint, the shape in current model is torch.Size([2048]).\n\tsize mismatch for layer4.0.downsample.1.bn.3.running_var: copying a param with shape torch.Size([1420]) from checkpoint, the shape in current model is torch.Size([2048]).\n\tsize mismatch for layer4.1.bn1.bn.1.weight: copying a param with shape torch.Size([908]) from checkpoint, the shape in current model is torch.Size([1024]).\n\tsize mismatch for layer4.1.bn1.bn.1.bias: copying a param with shape torch.Size([908]) from checkpoint, the shape in current model is torch.Size([1024]).\n\tsize mismatch for layer4.1.bn1.bn.1.running_mean: copying a param with shape torch.Size([908]) from checkpoint, the shape in current model is torch.Size([1024]).\n\tsize mismatch for layer4.1.bn1.bn.1.running_var: copying a param with shape torch.Size([908]) from checkpoint, the shape in current model is torch.Size([1024]).\n\tsize mismatch for layer4.1.bn1.bn.2.weight: copying a param with shape torch.Size([1024]) from checkpoint, the shape in current model is torch.Size([1536]).\n\tsize mismatch for layer4.1.bn1.bn.2.bias: copying a param with shape torch.Size([1024]) from checkpoint, the shape in current model is torch.Size([1536]).\n\tsize mismatch for layer4.1.bn1.bn.2.running_mean: copying a param with shape torch.Size([1024]) from checkpoint, the shape in current model is torch.Size([1536]).\n\tsize mismatch for layer4.1.bn1.bn.2.running_var: copying a param with shape torch.Size([1024]) from checkpoint, the shape in current model is torch.Size([1536]).\n\tsize mismatch for layer4.1.bn1.bn.3.weight: copying a param with shape torch.Size([1420]) from checkpoint, the shape in current model is torch.Size([2048]).\n\tsize mismatch for layer4.1.bn1.bn.3.bias: copying a param with shape torch.Size([1420]) from checkpoint, the shape in current model is torch.Size([2048]).\n\tsize mismatch for layer4.1.bn1.bn.3.running_mean: copying a param with shape torch.Size([1420]) from checkpoint, the shape in current model is torch.Size([2048]).\n\tsize mismatch for layer4.1.bn1.bn.3.running_var: copying a param with shape torch.Size([1420]) from checkpoint, the shape in current model is torch.Size([2048]).\n\tsize mismatch for layer4.1.bn2.bn.2.weight: copying a param with shape torch.Size([1024]) from checkpoint, the shape in current model is torch.Size([1536]).\n\tsize mismatch for layer4.1.bn2.bn.2.bias: copying a param with shape torch.Size([1024]) from checkpoint, the shape in current model is torch.Size([1536]).\n\tsize mismatch for layer4.1.bn2.bn.2.running_mean: copying a param with shape torch.Size([1024]) from checkpoint, the shape in current model is torch.Size([1536]).\n\tsize mismatch for layer4.1.bn2.bn.2.running_var: copying a param with shape torch.Size([1024]) from checkpoint, the shape in current model is torch.Size([1536]).\n\tsize mismatch for layer4.1.bn2.bn.3.weight: copying a param with shape torch.Size([1536]) from checkpoint, the shape in current model is torch.Size([2048]).\n\tsize mismatch for layer4.1.bn2.bn.3.bias: copying a param with shape torch.Size([1536]) from checkpoint, the shape in current model is torch.Size([2048]).\n\tsize mismatch for layer4.1.bn2.bn.3.running_mean: copying a param with shape torch.Size([1536]) from checkpoint, the shape in current model is torch.Size([2048]).\n\tsize mismatch for layer4.1.bn2.bn.3.running_var: copying a param with shape torch.Size([1536]) from checkpoint, the shape in current model is torch.Size([2048])."
     ]
    }
   ],
   "source": [
    "args.quant.arch = 'resnet18_quant'\n",
    "model = resnet18_quant(args.quant)\n",
    "checkpoint_path = './r18-2468/checkpoint.pth.tar'\n",
    "checkpoint = torch.load(checkpoint_path)\n",
    "woddp_checkpoint = {}\n",
    "for key, value in checkpoint['state_dict'].items():\n",
    "    woddp_checkpoint[key.replace('module.','')] = value\n",
    "model.load_state_dict(woddp_checkpoint, strict=False)\n"
   ]
  },
  {
   "cell_type": "code",
   "execution_count": 5,
   "metadata": {},
   "outputs": [
    {
     "ename": "NameError",
     "evalue": "name 'MobileNetV1' is not defined",
     "output_type": "error",
     "traceback": [
      "\u001b[0;31m---------------------------------------------------------------------------\u001b[0m",
      "\u001b[0;31mNameError\u001b[0m                                 Traceback (most recent call last)",
      "\u001b[1;32m/home/pdh/workspace/multiquant/test_trainer.ipynb 셀 5\u001b[0m line \u001b[0;36m1\n\u001b[1;32m      <a href='vscode-notebook-cell://attached-container%2B7b22636f6e7461696e65724e616d65223a222f323032335f6566666169222c2273657474696e6773223a7b22686f7374223a227373683a2f2f6b755f38375f706468227d7d/home/pdh/workspace/multiquant/test_trainer.ipynb#W3sdnNjb2RlLXJlbW90ZQ%3D%3D?line=7'>8</a>\u001b[0m     checkpoint_path \u001b[39m=\u001b[39m \u001b[39m'\u001b[39m\u001b[39m./r18-2468/checkpoint.pth.tar\u001b[39m\u001b[39m'\u001b[39m\n\u001b[1;32m      <a href='vscode-notebook-cell://attached-container%2B7b22636f6e7461696e65724e616d65223a222f323032335f6566666169222c2273657474696e6773223a7b22686f7374223a227373683a2f2f6b755f38375f706468227d7d/home/pdh/workspace/multiquant/test_trainer.ipynb#W3sdnNjb2RlLXJlbW90ZQ%3D%3D?line=8'>9</a>\u001b[0m \u001b[39melif\u001b[39;00m args\u001b[39m.\u001b[39mquant\u001b[39m.\u001b[39march \u001b[39m==\u001b[39m \u001b[39m'\u001b[39m\u001b[39mmobilenetv1\u001b[39m\u001b[39m'\u001b[39m:\n\u001b[0;32m---> <a href='vscode-notebook-cell://attached-container%2B7b22636f6e7461696e65724e616d65223a222f323032335f6566666169222c2273657474696e6773223a7b22686f7374223a227373683a2f2f6b755f38375f706468227d7d/home/pdh/workspace/multiquant/test_trainer.ipynb#W3sdnNjb2RlLXJlbW90ZQ%3D%3D?line=9'>10</a>\u001b[0m     model \u001b[39m=\u001b[39m MobileNetV1(args\u001b[39m.\u001b[39mquant)\n\u001b[1;32m     <a href='vscode-notebook-cell://attached-container%2B7b22636f6e7461696e65724e616d65223a222f323032335f6566666169222c2273657474696e6773223a7b22686f7374223a227373683a2f2f6b755f38375f706468227d7d/home/pdh/workspace/multiquant/test_trainer.ipynb#W3sdnNjb2RlLXJlbW90ZQ%3D%3D?line=10'>11</a>\u001b[0m     checkpoint_path \u001b[39m=\u001b[39m \u001b[39m'\u001b[39m\u001b[39m./mv1-2468/model_best.pth.tar\u001b[39m\u001b[39m'\u001b[39m\n\u001b[1;32m     <a href='vscode-notebook-cell://attached-container%2B7b22636f6e7461696e65724e616d65223a222f323032335f6566666169222c2273657474696e6773223a7b22686f7374223a227373683a2f2f6b755f38375f706468227d7d/home/pdh/workspace/multiquant/test_trainer.ipynb#W3sdnNjb2RlLXJlbW90ZQ%3D%3D?line=12'>13</a>\u001b[0m checkpoint \u001b[39m=\u001b[39m torch\u001b[39m.\u001b[39mload(checkpoint_path)\n",
      "\u001b[0;31mNameError\u001b[0m: name 'MobileNetV1' is not defined"
     ]
    }
   ],
   "source": [
    "args.quant.arch = 'mobilenetv1'\n",
    "\n",
    "if args.quant.arch == 'resnet20_quant':\n",
    "    model = resnet20_quant(args.quant)\n",
    "else:\n",
    "    if args.quant.arch == 'resnet18_quant':\n",
    "        model = resnet18_quant(args.quant)\n",
    "        checkpoint_path = './r18-2468/checkpoint.pth.tar'\n",
    "    elif args.quant.arch == 'mobilenetv1':\n",
    "        model = MobileNetV1(args.quant)\n",
    "        checkpoint_path = './mv1-2468/model_best.pth.tar'\n",
    "    \n",
    "    checkpoint = torch.load(checkpoint_path)\n",
    "    woddp_checkpoint = {}\n",
    "    for key, value in checkpoint['state_dict'].items():\n",
    "        woddp_checkpoint[key.replace('module.','')] = value\n",
    "    model.load_state_dict(woddp_checkpoint)\n",
    "model.cuda()"
   ]
  },
  {
   "cell_type": "code",
   "execution_count": null,
   "metadata": {},
   "outputs": [],
   "source": [
    "trainer = Trainer(data, model, criterion, None, args)"
   ]
  },
  {
   "cell_type": "code",
   "execution_count": null,
   "metadata": {},
   "outputs": [
    {
     "name": "stdout",
     "output_type": "stream",
     "text": [
      "{'2_loss': 1.9976301193237305, '2_Acc1': 54.5359992980957, '2_Acc5': 78.25399780273438, '4_loss': 1.2348692417144775, '4_Acc1': 70.24800109863281, '4_Acc5': 89.27799987792969, '6_loss': 1.1474791765213013, '6_Acc1': 72.08799743652344, '6_Acc5': 90.32599639892578, '8_loss': 1.2058947086334229, '8_Acc1': 70.63999938964844, '8_Acc5': 89.4280014038086, 'avg_loss': 1.396468311548233, 'avg_Acc1': 66.8779993057251, 'avg_Acc5': 86.82149887084961}\n"
     ]
    }
   ],
   "source": [
    "trainer.evaluate()"
   ]
  },
  {
   "cell_type": "code",
   "execution_count": null,
   "metadata": {},
   "outputs": [
    {
     "data": {
      "text/plain": [
       "12"
      ]
     },
     "execution_count": 7,
     "metadata": {},
     "output_type": "execute_result"
    }
   ],
   "source": [
    "bit_info = edict()\n",
    "bit_info['1'] = 2\n",
    "bit_info['2'] = 4\n",
    "bit_info['3'] = 6\n",
    "\n",
    "sum([bit_info[f'{i}'] for i in range(1,4)])\n"
   ]
  },
  {
   "cell_type": "code",
   "execution_count": null,
   "metadata": {},
   "outputs": [
    {
     "name": "stdout",
     "output_type": "stream",
     "text": [
      "grad is true\n"
     ]
    }
   ],
   "source": [
    "test_weights = torch.randn(3, 5)\n",
    "test1_tensor = nn.Linear(5, 3, bias=False)\n",
    "test1_tensor.weight.data = test_weights\n",
    "inputs = torch.randn(5)\n",
    "\n",
    "test1_pc_tensor = nn.Linear(5, 3, bias=False)\n",
    "test1_pc_tensor.weight.data = test_weights\n",
    "\n",
    "def pc(z, tau=1e-4):\n",
    "    if z.requires_grad:\n",
    "        print('grad is true')\n",
    "        z.register_hook(lambda grad, z = z.detach().clone(): grad + tau * z)\n",
    "    return z\n",
    "\n",
    "out = test1_tensor(inputs)\n",
    "out2 = test1_pc_tensor(inputs)\n",
    "out2_pc = pc(out2)\n",
    "\n",
    "\n",
    "out.sum().backward(retain_graph=True)\n",
    "out2_pc.sum().backward(retain_graph=True)"
   ]
  },
  {
   "cell_type": "code",
   "execution_count": null,
   "metadata": {},
   "outputs": [
    {
     "data": {
      "text/plain": [
       "tensor([[-0.7156, -0.4375, -1.9236,  1.3520, -0.5358],\n",
       "        [-0.7156, -0.4375, -1.9236,  1.3520, -0.5358],\n",
       "        [-0.7156, -0.4375, -1.9236,  1.3520, -0.5358]])"
      ]
     },
     "execution_count": 11,
     "metadata": {},
     "output_type": "execute_result"
    }
   ],
   "source": [
    "test1_tensor.weight.grad"
   ]
  },
  {
   "cell_type": "code",
   "execution_count": null,
   "metadata": {},
   "outputs": [
    {
     "data": {
      "text/plain": [
       "tensor([[-0.7158, -0.4376, -1.9240,  1.3524, -0.5359],\n",
       "        [-0.7156, -0.4375, -1.9236,  1.3521, -0.5358],\n",
       "        [-0.7157, -0.4375, -1.9237,  1.3521, -0.5358]])"
      ]
     },
     "execution_count": 12,
     "metadata": {},
     "output_type": "execute_result"
    }
   ],
   "source": [
    "test1_pc_tensor.weight.grad"
   ]
  },
  {
   "cell_type": "code",
   "execution_count": null,
   "metadata": {},
   "outputs": [],
   "source": [
    "import torch"
   ]
  },
  {
   "cell_type": "code",
   "execution_count": null,
   "metadata": {},
   "outputs": [
    {
     "data": {
      "text/plain": [
       "torch.Size([16, 3])"
      ]
     },
     "execution_count": 3,
     "metadata": {},
     "output_type": "execute_result"
    }
   ],
   "source": [
    "s = torch.randn(16, 3, 32, 32)\n",
    "torch.nn.AdaptiveAvgPool2d((1,1))(s).squeeze().shape"
   ]
  },
  {
   "cell_type": "code",
   "execution_count": null,
   "metadata": {},
   "outputs": [
    {
     "name": "stdout",
     "output_type": "stream",
     "text": [
      "torch.Size([4, 10, 1])\n",
      "torch.Size([4, 10, 4])\n",
      "tensor([[[0.1000, 0.9000, 0.1000, 0.9000],\n",
      "         [0.1000, 0.9000, 0.1000, 0.9000],\n",
      "         [0.1000, 0.9000, 0.1000, 0.9000],\n",
      "         [0.9000, 0.1000, 0.9000, 0.1000],\n",
      "         [0.1000, 0.9000, 0.1000, 0.9000],\n",
      "         [0.9000, 0.1000, 0.9000, 0.1000],\n",
      "         [0.9000, 0.1000, 0.9000, 0.1000],\n",
      "         [0.1000, 0.9000, 0.1000, 0.9000],\n",
      "         [0.9000, 0.1000, 0.9000, 0.1000],\n",
      "         [0.1000, 0.9000, 0.1000, 0.9000]],\n",
      "\n",
      "        [[0.9000, 0.1000, 0.9000, 0.1000],\n",
      "         [0.1000, 0.9000, 0.1000, 0.9000],\n",
      "         [0.9000, 0.1000, 0.9000, 0.1000],\n",
      "         [0.9000, 0.1000, 0.9000, 0.1000],\n",
      "         [0.1000, 0.9000, 0.1000, 0.9000],\n",
      "         [0.1000, 0.9000, 0.1000, 0.9000],\n",
      "         [0.1000, 0.9000, 0.1000, 0.9000],\n",
      "         [0.1000, 0.9000, 0.1000, 0.9000],\n",
      "         [0.9000, 0.1000, 0.9000, 0.1000],\n",
      "         [0.9000, 0.1000, 0.9000, 0.1000]],\n",
      "\n",
      "        [[0.9000, 0.1000, 0.9000, 0.1000],\n",
      "         [0.9000, 0.1000, 0.9000, 0.1000],\n",
      "         [0.9000, 0.1000, 0.9000, 0.1000],\n",
      "         [0.1000, 0.9000, 0.1000, 0.9000],\n",
      "         [0.9000, 0.1000, 0.9000, 0.1000],\n",
      "         [0.1000, 0.9000, 0.1000, 0.9000],\n",
      "         [0.1000, 0.9000, 0.1000, 0.9000],\n",
      "         [0.1000, 0.9000, 0.1000, 0.9000],\n",
      "         [0.1000, 0.9000, 0.1000, 0.9000],\n",
      "         [0.9000, 0.1000, 0.9000, 0.1000]],\n",
      "\n",
      "        [[0.9000, 0.1000, 0.9000, 0.1000],\n",
      "         [0.9000, 0.1000, 0.9000, 0.1000],\n",
      "         [0.1000, 0.9000, 0.1000, 0.9000],\n",
      "         [0.1000, 0.9000, 0.1000, 0.9000],\n",
      "         [0.9000, 0.1000, 0.9000, 0.1000],\n",
      "         [0.1000, 0.9000, 0.1000, 0.9000],\n",
      "         [0.1000, 0.9000, 0.1000, 0.9000],\n",
      "         [0.1000, 0.9000, 0.1000, 0.9000],\n",
      "         [0.1000, 0.9000, 0.1000, 0.9000],\n",
      "         [0.9000, 0.1000, 0.9000, 0.1000]]])\n",
      "tensor([[0.4871, 0.1717, 0.3512, 0.9058, 0.3855, 0.5863, 0.9044, 0.1547, 0.5860,\n",
      "         0.4977],\n",
      "        [0.5949, 0.3309, 0.8135, 0.7567, 0.2094, 0.4948, 0.1685, 0.3369, 0.6319,\n",
      "         0.6672],\n",
      "        [0.8569, 0.5660, 0.5948, 0.1798, 0.8822, 0.3247, 0.3784, 0.2426, 0.2297,\n",
      "         0.5993],\n",
      "        [0.5872, 0.7869, 0.3789, 0.3228, 0.5662, 0.1956, 0.3686, 0.1816, 0.3845,\n",
      "         0.8968]])\n"
     ]
    },
    {
     "data": {
      "text/plain": [
       "tensor([[1, 3, 3, 0, 3, 3, 0, 3, 2, 1],\n",
       "        [2, 0, 2, 2, 3, 3, 3, 3, 2, 0],\n",
       "        [1, 0, 2, 3, 1, 2, 3, 3, 1, 2],\n",
       "        [2, 2, 3, 1, 2, 2, 2, 3, 1, 0]])"
      ]
     },
     "execution_count": 17,
     "metadata": {},
     "output_type": "execute_result"
    }
   ],
   "source": [
    "g = torch.randn(4, 10, 1)\n",
    "f = torch.sigmoid(g)\n",
    "ff = 1 - f \n",
    "q = (f > 0.5).float() * 0.9 + (ff >= 0.5).float() * 0.1\n",
    "h = (f > 0.5).float() * 0.1 + (ff >= 0.5).float() * 0.9\n",
    "\n",
    "print(q.shape)\n",
    "t = torch.cat([q, h, q, h], dim=2)\n",
    "print(t.shape)\n",
    "print(t)\n",
    "print(f.view(4, -1))\n",
    "dist = torch.distributions.Categorical(t)\n",
    "dist.sample()"
   ]
  },
  {
   "cell_type": "code",
   "execution_count": null,
   "metadata": {},
   "outputs": [
    {
     "data": {
      "text/plain": [
       "tensor([[[0.0500, 0.4500, 0.0500, 0.4500],\n",
       "         [0.0500, 0.4500, 0.0500, 0.4500],\n",
       "         [0.0500, 0.4500, 0.0500, 0.4500],\n",
       "         [0.4500, 0.0500, 0.4500, 0.0500],\n",
       "         [0.0500, 0.4500, 0.0500, 0.4500],\n",
       "         [0.4500, 0.0500, 0.4500, 0.0500],\n",
       "         [0.4500, 0.0500, 0.4500, 0.0500],\n",
       "         [0.0500, 0.4500, 0.0500, 0.4500],\n",
       "         [0.4500, 0.0500, 0.4500, 0.0500],\n",
       "         [0.0500, 0.4500, 0.0500, 0.4500]],\n",
       "\n",
       "        [[0.4500, 0.0500, 0.4500, 0.0500],\n",
       "         [0.0500, 0.4500, 0.0500, 0.4500],\n",
       "         [0.4500, 0.0500, 0.4500, 0.0500],\n",
       "         [0.4500, 0.0500, 0.4500, 0.0500],\n",
       "         [0.0500, 0.4500, 0.0500, 0.4500],\n",
       "         [0.0500, 0.4500, 0.0500, 0.4500],\n",
       "         [0.0500, 0.4500, 0.0500, 0.4500],\n",
       "         [0.0500, 0.4500, 0.0500, 0.4500],\n",
       "         [0.4500, 0.0500, 0.4500, 0.0500],\n",
       "         [0.4500, 0.0500, 0.4500, 0.0500]],\n",
       "\n",
       "        [[0.4500, 0.0500, 0.4500, 0.0500],\n",
       "         [0.4500, 0.0500, 0.4500, 0.0500],\n",
       "         [0.4500, 0.0500, 0.4500, 0.0500],\n",
       "         [0.0500, 0.4500, 0.0500, 0.4500],\n",
       "         [0.4500, 0.0500, 0.4500, 0.0500],\n",
       "         [0.0500, 0.4500, 0.0500, 0.4500],\n",
       "         [0.0500, 0.4500, 0.0500, 0.4500],\n",
       "         [0.0500, 0.4500, 0.0500, 0.4500],\n",
       "         [0.0500, 0.4500, 0.0500, 0.4500],\n",
       "         [0.4500, 0.0500, 0.4500, 0.0500]],\n",
       "\n",
       "        [[0.4500, 0.0500, 0.4500, 0.0500],\n",
       "         [0.4500, 0.0500, 0.4500, 0.0500],\n",
       "         [0.0500, 0.4500, 0.0500, 0.4500],\n",
       "         [0.0500, 0.4500, 0.0500, 0.4500],\n",
       "         [0.4500, 0.0500, 0.4500, 0.0500],\n",
       "         [0.0500, 0.4500, 0.0500, 0.4500],\n",
       "         [0.0500, 0.4500, 0.0500, 0.4500],\n",
       "         [0.0500, 0.4500, 0.0500, 0.4500],\n",
       "         [0.0500, 0.4500, 0.0500, 0.4500],\n",
       "         [0.4500, 0.0500, 0.4500, 0.0500]]])"
      ]
     },
     "execution_count": 19,
     "metadata": {},
     "output_type": "execute_result"
    }
   ],
   "source": [
    "dist.probs"
   ]
  },
  {
   "cell_type": "code",
   "execution_count": null,
   "metadata": {},
   "outputs": [
    {
     "name": "stdout",
     "output_type": "stream",
     "text": [
      "tensor([[ 0.5604, -0.5688,  0.1439,  0.4462, -1.3286],\n",
      "        [ 0.6300, -0.5767,  0.6332, -0.9580, -0.0075],\n",
      "        [-0.2042, -1.4047, -0.9545, -0.9557, -0.0792],\n",
      "        [-0.9626, -0.3373,  0.7658,  0.5411,  0.8516]])\n",
      "tensor([[-1.1072, -2.2364, -1.5237, -1.2214, -2.9962],\n",
      "        [-1.1103, -2.3170, -1.1071, -2.6984, -1.7479],\n",
      "        [-1.2173, -2.4179, -1.9677, -1.9688, -1.0923],\n",
      "        [-2.9515, -2.3262, -1.2231, -1.4479, -1.1373]])\n",
      "tensor([[0.3305, 0.1068, 0.2179, 0.2948, 0.0500],\n",
      "        [0.3295, 0.0986, 0.3305, 0.0673, 0.1741],\n",
      "        [0.2960, 0.0891, 0.1398, 0.1396, 0.3355],\n",
      "        [0.0523, 0.0977, 0.2943, 0.2351, 0.3207]])\n"
     ]
    },
    {
     "data": {
      "text/plain": [
       "tensor([-9.0850, -8.9807, -8.6639, -9.0860])"
      ]
     },
     "execution_count": 25,
     "metadata": {},
     "output_type": "execute_result"
    }
   ],
   "source": [
    "g = torch.randn(4, 5)\n",
    "print(g)\n",
    "out = torch.nn.functional.log_softmax(g, dim=1)\n",
    "print(out)\n",
    "print(out.exp())\n",
    "out.sum(dim=-1)"
   ]
  }
 ],
 "metadata": {
  "kernelspec": {
   "display_name": "Python 3",
   "language": "python",
   "name": "python3"
  },
  "language_info": {
   "codemirror_mode": {
    "name": "ipython",
    "version": 3
   },
   "file_extension": ".py",
   "mimetype": "text/x-python",
   "name": "python",
   "nbconvert_exporter": "python",
   "pygments_lexer": "ipython3",
   "version": "3.10.12"
  },
  "orig_nbformat": 4
 },
 "nbformat": 4,
 "nbformat_minor": 2
}
